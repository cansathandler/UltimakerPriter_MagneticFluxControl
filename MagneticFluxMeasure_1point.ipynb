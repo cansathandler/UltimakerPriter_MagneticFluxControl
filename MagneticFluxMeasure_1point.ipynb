{
 "cells": [
  {
   "cell_type": "markdown",
   "metadata": {},
   "source": [
    "## Settings"
   ]
  },
  {
   "cell_type": "markdown",
   "metadata": {},
   "source": [
    "### Port number, Saving"
   ]
  },
  {
   "cell_type": "code",
   "execution_count": 1,
   "metadata": {},
   "outputs": [],
   "source": [
    "import os\n",
    "import pandas as pd\n",
    "import time\n",
    "from datetime import datetime\n",
    "import pyvisa\n",
    "import serial\n",
    "import serial.tools.list_ports\n",
    "import csv\n",
    "\n",
    "## Port number of DC Power Supply\n",
    "Port_rnd = 9\n",
    "\n",
    "## Port name of Teensy controlling Ultimaker\n",
    "Port_Ultimaker_Teensy = \"COM5\"\n",
    "\n",
    "## Port name of Teensy reading thermo couple\n",
    "Port_thermo_Teensy = \"COM7\"\n",
    "\n",
    "# Destination folder and file path\n",
    "folder_path = \"C:\\\\Users\\\\kary\\\\Documents\\\\9_data\\\\Electromagnet\\\\\"\n",
    "file_path = os.path.join(folder_path, \"1point_data.csv\")"
   ]
  },
  {
   "cell_type": "markdown",
   "metadata": {},
   "source": [
    "### DC power supply"
   ]
  },
  {
   "cell_type": "code",
   "execution_count": 2,
   "metadata": {},
   "outputs": [
    {
     "data": {
      "text/plain": [
       "('ASRL5::INSTR', 'ASRL6::INSTR', 'ASRL7::INSTR', 'ASRL9::INSTR')"
      ]
     },
     "execution_count": 2,
     "metadata": {},
     "output_type": "execute_result"
    }
   ],
   "source": [
    "\n",
    "#Create Resource manager instance for DC power supply\n",
    "rm= pyvisa.ResourceManager()\n",
    "#Check the VISA device\n",
    "rm.list_resources()"
   ]
  },
  {
   "cell_type": "code",
   "execution_count": 3,
   "metadata": {},
   "outputs": [
    {
     "name": "stdout",
     "output_type": "stream",
     "text": [
      "RND 320-KD3305P V4.2 SN:09924475\n",
      "\n"
     ]
    }
   ],
   "source": [
    "# Start the communication by VISA identifying resource name\n",
    "rnd = rm.open_resource('ASRL' + str(Port_rnd) + '::INSTR')\n",
    "\n",
    "#Checking the machine name\n",
    "print(rnd.query('*IDN?'))"
   ]
  },
  {
   "cell_type": "markdown",
   "metadata": {},
   "source": [
    "#### Definition of Stabilized Power Supply Operating Functions"
   ]
  },
  {
   "cell_type": "code",
   "execution_count": 4,
   "metadata": {},
   "outputs": [],
   "source": [
    "#Specify the communication instance, channel, voltage and current and turn on the output\n",
    "def out_put_on(sps,ch,vol,cur):\n",
    "    sps.write(\"VSET\"+str(ch)+\":\"+str(vol)) #set ch1 output current 0.01V\n",
    "    sps.write(\"ISET\"+str(ch)+\":\"+str(cur)) #set ch1 output current 0.01A\n",
    "    sps.write(\"OUT1\")\n",
    "\n",
    "def out_put_on_only_V(sps,ch,vol):\n",
    "    sps.write(\"VSET\"+str(ch)+\":\"+str(vol)) #set ch1 output current 0.01V\n",
    "    sps.write(\"ISET\"+str(ch)+\":0\") #set ch1 output current 0A\n",
    "    sps.write(\"OUT1\")\n",
    "\n",
    "#Turn off output by specifying communication instance and channel number\n",
    "def out_put_off(sps,ch):\n",
    "    sps.write(\"VSET\"+str(ch)+\":0\") \n",
    "    sps.write(\"ISET\"+str(ch)+\":0\") \n",
    "    sps.write(\"OUT1\")\n",
    "\n",
    "def out_put_off_all(sps):\n",
    "    sps.write(\"VSET1:0\") \n",
    "    sps.write(\"ISET1:0\") \n",
    "    sps.write(\"VSET2:0\") \n",
    "    sps.write(\"ISET2:0\") \n",
    "    sps.write(\"OUT1\")"
   ]
  },
  {
   "cell_type": "markdown",
   "metadata": {},
   "source": [
    "### Magnet meter"
   ]
  },
  {
   "cell_type": "code",
   "execution_count": 5,
   "metadata": {},
   "outputs": [
    {
     "name": "stdout",
     "output_type": "stream",
     "text": [
      "Sent command: $C!\n",
      "Response: #ok!#UFFFF18060B0A213A0106010000!#S00000106011510420011!#S00000106011510420011!#S00000106011510420011!\n",
      "Sent command: $Y000001!\n",
      "Response: #UFFFF18060B0A213B0106010000!#S00000106011510420011!#S00000106011510420011!#S00000106011510420011!\n",
      "Retry 1/5 for command: $Y000001!\n",
      "Sent command: $Y000001!\n",
      "Response: #UFFFF18060B0A22000106010000!#S00000106011510420011!#S00000106011510420011!#S00000106011510420011!\n",
      "Retry 2/5 for command: $Y000001!\n",
      "Sent command: $Y000001!\n",
      "Response: #UFFFF18060B0A22010106010000!#S00000106011510420011!#S00000106011510420011!#S00000106011510420011!\n",
      "Retry 3/5 for command: $Y000001!\n",
      "Sent command: $Y000001!\n",
      "Response: #ok!#UFFFF18060B0A22020106010000!#S00000106011510420011!\n"
     ]
    }
   ],
   "source": [
    "\n",
    "# Find and configure the serial port\n",
    "def configure_serial():\n",
    "    ports = serial.tools.list_ports.comports()\n",
    "    for port in ports:\n",
    "        if \"Prolific PL2303GC USB Serial COM Port\" in port.description:\n",
    "            return serial.Serial(\n",
    "                port.device,\n",
    "                baudrate=9600,\n",
    "                parity=serial.PARITY_NONE,\n",
    "                stopbits=serial.STOPBITS_ONE,\n",
    "                bytesize=serial.EIGHTBITS,\n",
    "                timeout=1\n",
    "            )\n",
    "    raise IOError(\"Prolific PL2303GC USB Serial COM Port not found\")\n",
    "\n",
    "ser = configure_serial()\n",
    "\n",
    "# Function to send command and check if response is #ok!\n",
    "def send_command_with_ok_check(command, retries=5):\n",
    "    for attempt in range(retries):\n",
    "        ser.write((command + '\\r\\n').encode())\n",
    "        print(f\"Sent command: {command}\")  # debug\n",
    "        time.sleep(1)\n",
    "        response = ser.read_all()\n",
    "        print(f\"Response: {response.decode('latin-1')}\")  # debug\n",
    "        if b'#ok!' in response:\n",
    "            return True\n",
    "        print(f\"Retry {attempt + 1}/{retries} for command: {command}\")\n",
    "    return False\n",
    "\n",
    "def send_receive_command(command):\n",
    "    try:\n",
    "        ser.write((command + '\\r\\n').encode())\n",
    "        print(f\"Sent command: {command}\")  # debug\n",
    "        time.sleep(1)  # Increase response wait time\n",
    "        response = ser.read_all()  # read all responses\n",
    "        return response\n",
    "    except serial.SerialException as e:\n",
    "        print(f\"Serial exception: {e}\")\n",
    "        return None\n",
    "    except Exception as e:\n",
    "        print(f\"Unexpected error: {e}\")\n",
    "        return None\n",
    "\n",
    "# send data clear\n",
    "if not send_command_with_ok_check(\"$C!\"):\n",
    "    print(\"Failed to clear data\")\n",
    "\n",
    "# setting reading interval\n",
    "if not send_command_with_ok_check(\"$Y000001!\"):\n",
    "    print(\"Failed to set record interval\")\n"
   ]
  },
  {
   "cell_type": "markdown",
   "metadata": {},
   "source": [
    "### Control board of Ultimaker (Teensy4.0)"
   ]
  },
  {
   "cell_type": "code",
   "execution_count": 6,
   "metadata": {},
   "outputs": [
    {
     "name": "stdout",
     "output_type": "stream",
     "text": [
      "Serial port opened successfully.\n"
     ]
    }
   ],
   "source": [
    "# Portrate setting\n",
    "baudrate_ult = 115200\n",
    "\n",
    "if Port_Ultimaker_Teensy is None:\n",
    "    print(\"Selected COM port not found.\")\n",
    "else:\n",
    "    # Make serial port instance\n",
    "    try:\n",
    "        ult_serialInst = serial.Serial(Port_Ultimaker_Teensy, baudrate_ult, timeout=1) \n",
    "        print(\"Serial port opened successfully.\")\n",
    "    except serial.SerialException as e:\n",
    "        print(f\"Error opening serial port: {e}\")\n",
    "        exit()"
   ]
  },
  {
   "cell_type": "markdown",
   "metadata": {},
   "source": [
    "### Reading Board of Thermo couple (Teensy4.0)"
   ]
  },
  {
   "cell_type": "code",
   "execution_count": 7,
   "metadata": {},
   "outputs": [
    {
     "name": "stdout",
     "output_type": "stream",
     "text": [
      "Serial port opened successfully.\n"
     ]
    }
   ],
   "source": [
    "# Portrate setting\n",
    "baudrate_the = 115200\n",
    "\n",
    "if Port_thermo_Teensy is None:\n",
    "    print(\"Selected COM port not found.\")\n",
    "else:\n",
    "    # Make serial port instance\n",
    "    try:\n",
    "        thermo_seriallInst = serial.Serial(Port_thermo_Teensy, baudrate_the, timeout=1) \n",
    "        print(\"Serial port opened successfully.\")\n",
    "    except serial.SerialException as e:\n",
    "        print(f\"Error opening serial port: {e}\")\n",
    "        exit()"
   ]
  },
  {
   "cell_type": "markdown",
   "metadata": {},
   "source": [
    "## Adjustment of position"
   ]
  },
  {
   "cell_type": "markdown",
   "metadata": {},
   "source": [
    "### Home (Please not use: Limit Switch is not working now)"
   ]
  },
  {
   "cell_type": "code",
   "execution_count": 8,
   "metadata": {},
   "outputs": [],
   "source": [
    "#ult_serialInst.write(('H').encode('utf-8'))"
   ]
  },
  {
   "cell_type": "markdown",
   "metadata": {},
   "source": [
    "### X-axis (Enter arbitrary distance [mm])"
   ]
  },
  {
   "cell_type": "code",
   "execution_count": 9,
   "metadata": {},
   "outputs": [
    {
     "ename": "ValueError",
     "evalue": "invalid literal for int() with base 10: ''",
     "output_type": "error",
     "traceback": [
      "\u001b[1;31m---------------------------------------------------------------------------\u001b[0m",
      "\u001b[1;31mValueError\u001b[0m                                Traceback (most recent call last)",
      "Cell \u001b[1;32mIn[9], line 1\u001b[0m\n\u001b[1;32m----> 1\u001b[0m displacement \u001b[38;5;241m=\u001b[39m \u001b[38;5;28mstr\u001b[39m(\u001b[38;5;28;43mint\u001b[39;49m\u001b[43m(\u001b[49m\u001b[38;5;28;43minput\u001b[39;49m\u001b[43m(\u001b[49m\u001b[38;5;124;43m\"\u001b[39;49m\u001b[38;5;124;43mX axis Distance (mm)\u001b[39;49m\u001b[38;5;124;43m\"\u001b[39;49m\u001b[43m)\u001b[49m\u001b[43m)\u001b[49m \u001b[38;5;241m*\u001b[39m \u001b[38;5;241m2\u001b[39m \u001b[38;5;241m/\u001b[39m \u001b[38;5;241m3\u001b[39m) \u001b[38;5;66;03m#adjust the number according to the result\u001b[39;00m\n\u001b[0;32m      2\u001b[0m ult_serialInst\u001b[38;5;241m.\u001b[39mwrite((\u001b[38;5;124m'\u001b[39m\u001b[38;5;124mX\u001b[39m\u001b[38;5;124m'\u001b[39m \u001b[38;5;241m+\u001b[39m displacement)\u001b[38;5;241m.\u001b[39mencode(\u001b[38;5;124m'\u001b[39m\u001b[38;5;124mutf-8\u001b[39m\u001b[38;5;124m'\u001b[39m))\n",
      "\u001b[1;31mValueError\u001b[0m: invalid literal for int() with base 10: ''"
     ]
    }
   ],
   "source": [
    "displacement = str(int(input(\"X axis Distance (mm)\")) * 2 / 3) #adjust the number according to the result\n",
    "ult_serialInst.write(('X' + displacement).encode('utf-8'))"
   ]
  },
  {
   "cell_type": "markdown",
   "metadata": {},
   "source": [
    "### Y-axis (Enter arbitrary distance [mm])"
   ]
  },
  {
   "cell_type": "code",
   "execution_count": null,
   "metadata": {},
   "outputs": [
    {
     "data": {
      "text/plain": [
       "19"
      ]
     },
     "execution_count": 10,
     "metadata": {},
     "output_type": "execute_result"
    }
   ],
   "source": [
    "displacement = str(int(input(\"Y axis Distance (mm)\")) * 2 / 3) #adjust the number according to the result\n",
    "ult_serialInst.write(('Y' + displacement).encode('utf-8'))"
   ]
  },
  {
   "cell_type": "markdown",
   "metadata": {},
   "source": [
    "### Z-axis (Enter arbitrary distance [mm])"
   ]
  },
  {
   "cell_type": "code",
   "execution_count": null,
   "metadata": {},
   "outputs": [
    {
     "data": {
      "text/plain": [
       "19"
      ]
     },
     "execution_count": 11,
     "metadata": {},
     "output_type": "execute_result"
    }
   ],
   "source": [
    "displacement = str(int(input(\"X axis Distance (mm)\")) * 2 / 3) #adjust the number according to the result\n",
    "ult_serialInst.write(('Z' + displacement).encode('utf-8'))"
   ]
  },
  {
   "cell_type": "markdown",
   "metadata": {},
   "source": [
    "## Measurement"
   ]
  },
  {
   "cell_type": "markdown",
   "metadata": {},
   "source": [
    "### Stepping motor move"
   ]
  },
  {
   "cell_type": "code",
   "execution_count": 10,
   "metadata": {},
   "outputs": [
    {
     "name": "stdout",
     "output_type": "stream",
     "text": [
      "Sent command: $KE!\n",
      "Response: #UFFFF18060B0A22030106010000!#S00000106011510420011!#UFFFF18060B0A22040106010000!#S00000106011510420011!#S00000106011510420011!#UFFFF18060B0A22050106010000!#S00000106011510420011!#S00000106011510420011!#UFFFF18060B0A22060106010000!#S00000106011510420011!#S00000106011510420011!#UFFFF18060B0A22070106010000!#S00000106011510420011!#S00000106011510420011!#UFFFF18060B0A22080106010000!#S00000106011510420011!#S00000106011510420011!#UFFFF18060B0A22090106010000!#S00000106011510420011!#S00000106011510420011!#UFFFF18060B0A220A0106010000!#S00000106011510420011!#S00000106011510420011!#UFFFF18060B0A220B0106010000!#S00000106011510420011!#S00000106011510420011!#S00000106011510420011!#ok!#S00020106000040020001!\n",
      "Data saved to CSV\n",
      "Program finished and serial port closed.\n"
     ]
    }
   ],
   "source": [
    "#DCDC converter input active voltage\n",
    "out_put_on(rnd,1,5,2) # channel 1, 5 V, 2 A\n",
    "time.sleep(0.0) # set time to wait\n",
    "# initialize data frame\n",
    "data = []\n",
    "\n",
    "def thermocouple_read():\n",
    "\n",
    "    thermo_seriallInst.write(\"Reference Temperature\\n\".encode('utf-8'))\n",
    "    time.sleep(0.1)\n",
    "    ref_temp = thermo_seriallInst.readline().decode('utf-8').strip()\n",
    "\n",
    "    thermo_seriallInst.write(\"Probe Temperature\\n\".encode('utf-8'))\n",
    "    time.sleep(0.1)\n",
    "    pro_temp = thermo_seriallInst.readline().decode('utf-8').strip()\n",
    "\n",
    "    return ref_temp, pro_temp\n",
    "\n",
    "def measure():\n",
    "            \n",
    "    reference_temp, probe_temp = thermocouple_read()\n",
    "\n",
    "    # Read data from serial port\n",
    "    data.append([datetime.now().strftime(\"%Y-%m-%d %H:%M:%S.%f\")[:-3], time.perf_counter(), reference_temp, probe_temp])\n",
    "\n",
    "    # Read magnetic flux\n",
    "    if not send_command_with_ok_check(\"$KE!\"):\n",
    "        print(\"Failed to send measurement command\")\n",
    "\n",
    "    # Convert and save to DataFrame\n",
    "    df = pd.DataFrame(data, columns=[\"Timestamp\", \"High_Precision_Timestamp\", \"Reference_Temperature\", \"Probe_Temperature\"])\n",
    "    df.to_csv(file_path, index=False)\n",
    "    print(\"Data saved to CSV\")\n",
    "\n",
    "# Perform mesh movement directly\n",
    "measure()\n",
    "ult_serialInst.close()\n",
    "print(\"Program finished and serial port closed.\")\n",
    "\n",
    "### Voltage OFF\n",
    "# Power off all\n",
    "out_put_off_all(rnd)"
   ]
  },
  {
   "cell_type": "markdown",
   "metadata": {},
   "source": [
    "## Data Save"
   ]
  },
  {
   "cell_type": "code",
   "execution_count": 11,
   "metadata": {},
   "outputs": [
    {
     "name": "stdout",
     "output_type": "stream",
     "text": [
      "Sent command: $A!\n",
      "Data saved to CSV\n"
     ]
    }
   ],
   "source": [
    "# Initialize CSV file and add columns\n",
    "def initialize_csv():\n",
    "    if not os.path.exists(file_path):\n",
    "        with open(file_path, mode='w', newline='') as file:\n",
    "            writer = csv.writer(file)\n",
    "            writer.writerow([\"Timestamp\", \"High_Precision_Timestamp\", \"Reference_Temperature\", \"Probe_Temperature\", \"Raw_data\", \"Temperature_Gauss_meter\", \"Gauss_Value\"])\n",
    "    else:\n",
    "        df = pd.read_csv(file_path, dtype={\"Raw_data\": str})\n",
    "        for column in [\"Raw_data\", \"Temperature\", \"Gauss_Value\"]:\n",
    "            if column not in df.columns:\n",
    "                df[column] = ''\n",
    "        df.to_csv(file_path, index=False)\n",
    "\n",
    "# Parse response string\n",
    "def parse_response(response):\n",
    "    try:\n",
    "        temperature = int(response[18:21], 16) / 10 if response[22:23] == '1' else int(response[18:21], 16)\n",
    "        gauss_value = int(response[24:27], 16)\n",
    "        if gauss_value & 0x8000:\n",
    "            gauss_value -= 0x10000\n",
    "        return temperature, gauss_value / 10\n",
    "    except Exception as e:\n",
    "        print(f\"Error parsing response: {response}, error: {e}\")\n",
    "        return None, None\n",
    "\n",
    "# Save magnetic flux data to CSV\n",
    "def save_magnetic_flux_to_csv(response_list):\n",
    "    df = pd.read_csv(file_path, dtype={\"Raw_data\": str})\n",
    "    for i, response in enumerate(response_list):\n",
    "        if i >= len(df):\n",
    "            break\n",
    "        temperature, gauss_value = parse_response(response)\n",
    "        df.at[i, 'Raw_data'] = response\n",
    "        df.at[i, 'Temperature'] = temperature\n",
    "        df.at[i, 'Gauss_Value'] = gauss_value\n",
    "    df.to_csv(file_path, index=False)\n",
    "\n",
    "# Initialization and adding columns\n",
    "initialize_csv()\n",
    "\n",
    "# Send data retrieval command and get response\n",
    "data_response = send_receive_command(\"$A!\")\n",
    "if data_response:\n",
    "    response_list = [entry for entry in data_response.decode('latin-1').split('#') if entry.startswith('D') and entry.endswith('!')]\n",
    "    save_magnetic_flux_to_csv(response_list)\n",
    "    print(\"Data saved to CSV\")\n",
    "else:\n",
    "    print(\"No data received\")\n"
   ]
  },
  {
   "cell_type": "code",
   "execution_count": null,
   "metadata": {},
   "outputs": [],
   "source": []
  }
 ],
 "metadata": {
  "kernelspec": {
   "display_name": "Python 3",
   "language": "python",
   "name": "python3"
  },
  "language_info": {
   "codemirror_mode": {
    "name": "ipython",
    "version": 3
   },
   "file_extension": ".py",
   "mimetype": "text/x-python",
   "name": "python",
   "nbconvert_exporter": "python",
   "pygments_lexer": "ipython3",
   "version": "3.11.9"
  }
 },
 "nbformat": 4,
 "nbformat_minor": 2
}
