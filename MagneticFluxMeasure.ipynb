{
 "cells": [
  {
   "cell_type": "markdown",
   "metadata": {},
   "source": [
    "## Settings"
   ]
  },
  {
   "cell_type": "markdown",
   "metadata": {},
   "source": [
    "### DC power supply"
   ]
  },
  {
   "cell_type": "code",
   "execution_count": 10,
   "metadata": {},
   "outputs": [
    {
     "data": {
      "text/plain": [
       "('ASRL5::INSTR', 'ASRL6::INSTR', 'ASRL9::INSTR')"
      ]
     },
     "execution_count": 10,
     "metadata": {},
     "output_type": "execute_result"
    }
   ],
   "source": [
    "import pyvisa\n",
    "\n",
    "#Create Resource manager instance for DC power supply\n",
    "rm= pyvisa.ResourceManager()\n",
    "#Check the VISA device\n",
    "rm.list_resources()"
   ]
  },
  {
   "cell_type": "code",
   "execution_count": 12,
   "metadata": {},
   "outputs": [
    {
     "name": "stdout",
     "output_type": "stream",
     "text": [
      "RND 320-KD3305P V4.2 SN:09924475\n",
      "\n"
     ]
    }
   ],
   "source": [
    "# Start the communication by VISA identifying resource name\n",
    "rnd = rm.open_resource('ASRL9::INSTR')\n",
    "\n",
    "#Checking the machine name\n",
    "print(rnd.query('*IDN?'))"
   ]
  },
  {
   "cell_type": "markdown",
   "metadata": {},
   "source": [
    "#### Definition of Stabilized Power Supply Operating Functions"
   ]
  },
  {
   "cell_type": "code",
   "execution_count": 13,
   "metadata": {},
   "outputs": [],
   "source": [
    "#通信インスタンスとチャンネルと電圧と電流を指定して出力オン\n",
    "def out_put_on(sps,ch,vol,cur):\n",
    "    sps.write(\"VSET\"+str(ch)+\":\"+str(vol)) #set ch1 output current 0.01V\n",
    "    sps.write(\"ISET\"+str(ch)+\":\"+str(cur)) #set ch1 output current 0.01A\n",
    "    sps.write(\"OUT1\")\n",
    "\n",
    "def out_put_on_only_V(sps,ch,vol):\n",
    "    sps.write(\"VSET\"+str(ch)+\":\"+str(vol)) #set ch1 output current 0.01V\n",
    "    sps.write(\"ISET\"+str(ch)+\":0\") #set ch1 output current 0A\n",
    "    sps.write(\"OUT1\")\n",
    "\n",
    "#通信インスタンスとチャンネル番号を指定して出力オフ\n",
    "def out_put_off(sps,ch):\n",
    "    sps.write(\"VSET\"+str(ch)+\":0\") \n",
    "    sps.write(\"ISET\"+str(ch)+\":0\") \n",
    "    sps.write(\"OUT1\")\n",
    "\n",
    "def out_put_off_all(sps):\n",
    "    sps.write(\"VSET1:0\") \n",
    "    sps.write(\"ISET1:0\") \n",
    "    sps.write(\"VSET2:0\") \n",
    "    sps.write(\"ISET2:0\") \n",
    "    sps.write(\"OUT1\")"
   ]
  },
  {
   "cell_type": "markdown",
   "metadata": {},
   "source": [
    "### Magnet meter"
   ]
  },
  {
   "cell_type": "code",
   "execution_count": 14,
   "metadata": {},
   "outputs": [
    {
     "name": "stdout",
     "output_type": "stream",
     "text": [
      "Sent command: $C!\n",
      "Response: #ok!#UFFFF18051E0C0D2200E2010000!#S000100E2011500420011!#S000000E2011500420011!\n",
      "Sent command: $Y000001!\n",
      "Response: #ok!#UFFFF18051E0C0D2300E2010001!#UFFFF18051E0C0D2400E2010001!\n"
     ]
    }
   ],
   "source": [
    "import serial\n",
    "import serial.tools.list_ports\n",
    "import time\n",
    "import pandas as pd\n",
    "\n",
    "# Find and configure the serial port\n",
    "def configure_serial():\n",
    "    ports = serial.tools.list_ports.comports()\n",
    "    for port in ports:\n",
    "        if \"Prolific PL2303GC USB Serial COM Port\" in port.description:\n",
    "            return serial.Serial(\n",
    "                port.device,\n",
    "                baudrate=9600,\n",
    "                parity=serial.PARITY_NONE,\n",
    "                stopbits=serial.STOPBITS_ONE,\n",
    "                bytesize=serial.EIGHTBITS,\n",
    "                timeout=1\n",
    "            )\n",
    "    raise IOError(\"Prolific PL2303GC USB Serial COM Port not found\")\n",
    "\n",
    "ser = configure_serial()\n",
    "\n",
    "# コマンドを送信して応答が#ok!であるか確認する関数\n",
    "def send_command_with_ok_check(command, retries=5):\n",
    "    for attempt in range(retries):\n",
    "        ser.write((command + '\\r\\n').encode())\n",
    "        print(f\"Sent command: {command}\")  # デバッグ用\n",
    "        time.sleep(1)\n",
    "        response = ser.read_all()\n",
    "        print(f\"Response: {response.decode('latin-1')}\")  # デバッグ用\n",
    "        if b'#ok!' in response:\n",
    "            return True\n",
    "        print(f\"Retry {attempt + 1}/{retries} for command: {command}\")\n",
    "    return False\n",
    "\n",
    "def send_receive_command(command):\n",
    "    try:\n",
    "        ser.write((command + '\\r\\n').encode())\n",
    "        print(f\"Sent command: {command}\")  # デバッグ用\n",
    "        time.sleep(1)  # 応答の待機時間を増やす\n",
    "        response = ser.read_all()  # 全ての応答を読み取る\n",
    "        return response\n",
    "    except serial.SerialException as e:\n",
    "        print(f\"Serial exception: {e}\")\n",
    "        return None\n",
    "    except Exception as e:\n",
    "        print(f\"Unexpected error: {e}\")\n",
    "        return None\n",
    "\n",
    "# データクリアを送信\n",
    "if not send_command_with_ok_check(\"$C!\"):\n",
    "    print(\"Failed to clear data\")\n",
    "\n",
    "# 記録間隔を設定する\n",
    "if not send_command_with_ok_check(\"$Y000001!\"):\n",
    "    print(\"Failed to set record interval\")\n"
   ]
  },
  {
   "cell_type": "markdown",
   "metadata": {},
   "source": [
    "### Control board of Ultimaker (Teensy4.0)"
   ]
  },
  {
   "cell_type": "code",
   "execution_count": 15,
   "metadata": {},
   "outputs": [
    {
     "name": "stdout",
     "output_type": "stream",
     "text": [
      "COM6 - Prolific PL2303GC USB Serial COM Port (COM6)\n",
      "COM3 - Intel(R) Active Management Technology - SOL (COM3)\n",
      "COM5 - Serielles USB-Gerät (COM5)\n",
      "COM9 - Serielles USB-Gerät (COM9)\n",
      "Selected Port: COM5 - Serielles USB-Gerät (COM5)\n",
      "Using port: COM5\n",
      "Serial port opened successfully.\n"
     ]
    }
   ],
   "source": [
    "import serial.tools.list_ports\n",
    "\n",
    "# COMポートの設定（Teensy4.0のものを自動選択）\n",
    "\n",
    "# 利用可能なポートリストを取得\n",
    "ports = serial.tools.list_ports.comports()\n",
    "portList = []\n",
    "\n",
    "for one in ports:\n",
    "    portList.append(str(one))\n",
    "    print(str(one))\n",
    "\n",
    "# \"Serielles USB-Gerät\" を含むポートを自動選択\n",
    "use = None\n",
    "for port in portList:\n",
    "    if \"Serielles USB-Gerät\" in port:\n",
    "        print(f\"Selected Port: {port}\")\n",
    "        use = port.split(' ')[0]  # ポート名を抽出（例：COM3）\n",
    "        break\n",
    "\n",
    "if use is None:\n",
    "    print(\"No suitable port found.\")\n",
    "else:\n",
    "    print(f\"Using port: {use}\")\n",
    "\n",
    "# COMポートが見つかった場合の後続処理をここに追加\n",
    "\n",
    "# Portrate setting\n",
    "baudrate = 115200\n",
    "\n",
    "if use is None:\n",
    "    print(\"Selected COM port not found.\")\n",
    "else:\n",
    "    # Make serial port instance\n",
    "    try:\n",
    "        serialInst = serial.Serial(use, baudrate, timeout=1) \n",
    "        print(\"Serial port opened successfully.\")\n",
    "    except serial.SerialException as e:\n",
    "        print(f\"Error opening serial port: {e}\")\n",
    "        exit()"
   ]
  },
  {
   "cell_type": "markdown",
   "metadata": {},
   "source": [
    "## Adjustment of position"
   ]
  },
  {
   "cell_type": "markdown",
   "metadata": {},
   "source": [
    "### Home (Please not use: Limit Switch is not working now)"
   ]
  },
  {
   "cell_type": "code",
   "execution_count": 16,
   "metadata": {},
   "outputs": [],
   "source": [
    "#serialInst.write(('H').encode('utf-8'))"
   ]
  },
  {
   "cell_type": "markdown",
   "metadata": {},
   "source": [
    "### X-axis (Enter arbitrary distance [mm])"
   ]
  },
  {
   "cell_type": "code",
   "execution_count": 18,
   "metadata": {},
   "outputs": [
    {
     "data": {
      "text/plain": [
       "19"
      ]
     },
     "execution_count": 18,
     "metadata": {},
     "output_type": "execute_result"
    }
   ],
   "source": [
    "displacement = str(int(input(\"X axis Distance (mm)\")) * 2 / 3) #adjust the number according to the result\n",
    "serialInst.write(('X' + displacement).encode('utf-8'))"
   ]
  },
  {
   "cell_type": "markdown",
   "metadata": {},
   "source": [
    "### Y-axis (Enter arbitrary distance [mm])"
   ]
  },
  {
   "cell_type": "code",
   "execution_count": null,
   "metadata": {},
   "outputs": [],
   "source": [
    "displacement = str(int(input(\"Y axis Distance (mm)\")) * 2 / 3) #adjust the number according to the result\n",
    "serialInst.write(('Y' + displacement).encode('utf-8'))"
   ]
  },
  {
   "cell_type": "markdown",
   "metadata": {},
   "source": [
    "### Z-axis (Enter arbitrary distance [mm])"
   ]
  },
  {
   "cell_type": "code",
   "execution_count": null,
   "metadata": {},
   "outputs": [],
   "source": [
    "displacement = str(int(input(\"X axis Distance (mm)\")) * 2 / 3) #adjust the number according to the result\n",
    "serialInst.write(('Z' + displacement).encode('utf-8'))"
   ]
  },
  {
   "cell_type": "markdown",
   "metadata": {},
   "source": [
    "## Measurement"
   ]
  },
  {
   "cell_type": "markdown",
   "metadata": {},
   "source": [
    "### DC power supply"
   ]
  },
  {
   "cell_type": "code",
   "execution_count": null,
   "metadata": {},
   "outputs": [],
   "source": [
    "#DCDC converter input active voltage\n",
    "out_put_on(rnd,1,5,0.1) # channel 1, 5 V, 0.1 A"
   ]
  },
  {
   "cell_type": "markdown",
   "metadata": {},
   "source": [
    "### Stepping motor move"
   ]
  },
  {
   "cell_type": "code",
   "execution_count": 3,
   "metadata": {},
   "outputs": [
    {
     "name": "stdout",
     "output_type": "stream",
     "text": [
      "Starting the external program...\n",
      "No data received.\n",
      "Sent command: $KE!\n",
      "Response: #S000B00E9011500420011!#UFFFF18051E0B361E00E901000B!#S000B00E9011500420011!#S000B00E9011500420011!#S000B00E9011500420011!#UFFFF18051E0B361F00E901000B!#S000B00E9011500420011!#S000B00E9011500420011!#S000B00E9011500420011!#UFFFF18051E0B362000E901000B!#S000B00E9011500420011!#S000B00E9011500420011!#S000A00E9011500420011!#UFFFF18051E0B362100E901000A!#S000A00E9011500420011!#S000A00E9011500420011!#S000A00E9011500420011!#UFFFF18051E0B362200E901000A!#S000B00E9011500420011!#S000A00E9011500420011!#UFFFF18051E0B362300E901000D!#S000B00E9011500420011!#S000C00E9011500420011!#UFFFF18051E0B362400E901000B!#S000B00E9011500420011!#UFFFF18051E0B362500E901000B!#S000B00E9011500420011!#S000B00E9011500420011!#UFFFF18051E0B362600E901000B!#S000B00E9011500420011!#S000B00E9011500420011!#UFFFF18051E0B362700E901000B!#S000B00E9011500420011!#S000B00E9011500420011!#UFFFF18051E0B362800E901000B!#S000B00E9011500420011!#S000B00E9011500420011!#UFFFF18051E0B362900E901000B!#S000D00E9011500420011!#S000B00E9011500420011!#ok!#S002200E9000040020001!\n",
      "Received data: Stopped at X: 0.5, Y: 0.0\n",
      "Sent command: $KE!\n",
      "Response: #UFFFF18051E0B362B00E901000B!#S002200E9001000020001!#S000B00E9011500420011!#UFFFF18051E0B362C00E901000D!#S000B00E9011500420011!#S000D00E9011500420011!#ok!#S002300E9000040020001!\n",
      "Received data: Stopped at X: 1.0, Y: 0.0\n",
      "Sent command: $KE!\n",
      "Response: #UFFFF18051E0B362E00E901000B!#S002300E9001000020001!#S000B00E9011500420011!#UFFFF18051E0B362F00E901000B!#S000B00E9011500420011!#S000D00EA011500420011!#ok!#S002400EA000040020001!\n",
      "Sent command: $KE!\n",
      "Response: #UFFFF18051E0B363100E901000B!#S002400EA001000020001!#S000B00E9011500420011!#UFFFF18051E0B363200E901000B!#S000B00E9011500420011!#S000B00E9011500420011!#S000B00E9011500420011!#ok!#S002500E9000040020001!\n",
      "Received data: Stopped at X: 0.0, Y: 0.5\n",
      "Sent command: $KE!\n",
      "Response: #UFFFF18051E0B363400E901000B!#S002500E9001000020001!#S000B00E9011500420011!#UFFFF18051E0B363500E901000B!#S000B00E9011500420011!#S000B00E9011500420011!#S000B00EA011500420011!#ok!#S002600EA000040020001!\n",
      "Received data: Stopped at X: 0.5, Y: 0.5\n",
      "Sent command: $KE!\n",
      "Response: #UFFFF18051E0B363700E901000B!#S002600EA001000020001!#S000B00EA011500420011!#UFFFF18051E0B363800EA01000B!#S000B00EA011500420011!#S000B00EA011500420011!#S000B00E9011500420011!#ok!#S002700E9000040020001!\n",
      "Received data: Stopped at X: 1.0, Y: 0.5\n",
      "Sent command: $KE!\n",
      "Response: #UFFFF18051E0B363A00EA01000B!#S002700E9001000020001!#S000B00EA011500420011!#UFFFF18051E0B363B00EA01000B!#S000B00EA011500420011!#S000B00EA011500420011!#S000C00EA011500420011!#UFFFF18051E0B370000EA01000D!#S000D00EA011500420011!#S000D00EA011500420011!\n",
      "Retry 1/5 for command: $KE!\n",
      "Sent command: $KE!\n",
      "Response: #S000B00EA011500420011!#UFFFF18051E0B370100EA01000B!#S000B00EA011500420011!#S000B00EA011500420011!\n",
      "Retry 2/5 for command: $KE!\n",
      "Sent command: $KE!\n",
      "Response: #S000B00EA011500420011!#UFFFF18051E0B370200EA01000B!#S000B00EA011500420011!#S000B00EA011500420011!\n",
      "Retry 3/5 for command: $KE!\n",
      "Sent command: $KE!\n",
      "Response: #ok!#S002800EA000040020001!\n",
      "Sent command: $KE!\n"
     ]
    }
   ],
   "source": [
    "import csv\n",
    "import os\n",
    "import time\n",
    "import serial.tools.list_ports\n",
    "import ipywidgets as widgets\n",
    "from IPython.display import display, clear_output\n",
    "from datetime import datetime\n",
    "\n",
    "# Save folder\n",
    "folder_path = \"C:\\\\Users\\\\kary\\\\Documents\\\\9_data\\\\Electromagnet\\\\\" # change path for yourself\n",
    "file_path = os.path.join(folder_path, \"position_data.csv\")\n",
    "\n",
    "# Initialize CSV file\n",
    "def initialize_csv():\n",
    "    with open(file_path, mode='w', newline='') as file:\n",
    "        writer = csv.writer(file)\n",
    "        writer.writerow([\"Timestamp\", \"High_Precision_Timestamp\", \"X_Position\", \"Y_Position\"])\n",
    "\n",
    "# 位置情報のCSVファイルへの保存\n",
    "def save_position_to_csv(x, y):\n",
    "    now = datetime.now().strftime(\"%m/%d/%Y %H:%M:%S.%f\")[:-3]\n",
    "    high_precision_time = time.perf_counter()\n",
    "    with open(file_path, mode='a', newline='') as file:\n",
    "        writer = csv.writer(file)\n",
    "        writer.writerow([now, high_precision_time, x, y])\n",
    "\n",
    "# メッシュ設定\n",
    "x_mesh_size = 1.0  # mm\n",
    "y_mesh_size = 1.0  # mm\n",
    "resolution = 0.5  # mm\n",
    "x_num_points = int(x_mesh_size / resolution + 1)\n",
    "y_num_points = int(y_mesh_size / resolution + 1)\n",
    "\n",
    "def move_motor(axis, displacement):\n",
    "    command = axis + str(displacement)\n",
    "    serialInst.write(command.encode('utf-8'))\n",
    "    # モーターが動作するための待機時間（調整が必要）\n",
    "    time.sleep(1)\n",
    "\n",
    "def run_mesh_movement():\n",
    "    current_x = 0.0\n",
    "    current_y = 0.0\n",
    "    initialize_csv()\n",
    "    save_position_to_csv(current_x, current_y)  # 初期位置 (0, 0) を記録\n",
    "        \n",
    "    for y in range(y_num_points):\n",
    "        for x in range(x_num_points):\n",
    "            target_y = y * resolution\n",
    "            target_x = x * resolution\n",
    "\n",
    "            # Y軸の相対位置を計算\n",
    "            if target_y != current_y:\n",
    "                move_motor('Y', target_y - current_y)\n",
    "                current_y = target_y\n",
    "            \n",
    "            # X軸の相対位置を計算\n",
    "            if target_x != current_x:\n",
    "                move_motor('X', target_x - current_x)\n",
    "                current_x = target_x\n",
    "\n",
    "            # 物体が位置に到達するのを待つ（調整が必要）\n",
    "            time.sleep(1)\n",
    "            \n",
    "            # シリアルポートからデータを読み取る\n",
    "            try:\n",
    "                if serialInst.in_waiting > 0:\n",
    "                    data = serialInst.readline().decode('utf-8').strip()\n",
    "                    if data == \"Stopped\":\n",
    "                        save_position_to_csv(current_x, current_y)\n",
    "                        print(f\"Received data: {data} at X: {current_x}, Y: {current_y}\")\n",
    "                    else:\n",
    "                        print(f\"Unexpected data: {data}\")\n",
    "                else:\n",
    "                    print(\"No data received.\")\n",
    "            except serial.SerialException as e:\n",
    "                print(f\"Error reading data: {e}\")\n",
    "\n",
    "            ##Read Magnetic flux\n",
    "            if not send_command_with_ok_check(\"$KE!\"):\n",
    "                print(\"Failed to send measurement command\")\n",
    "\n",
    "        # 行の終わりで次の行に移動する前にX軸をリセットする\n",
    "        if y != y_num_points - 1:\n",
    "            move_motor('X', -current_x)\n",
    "            # 物体が位置に到達するのを待つ（調整が必要）\n",
    "            time.sleep(1)\n",
    "            current_x = 0.0\n",
    "        \n",
    "        ##Read Magnetic flux\n",
    "        if not send_command_with_ok_check(\"$KE!\"):\n",
    "            print(\"Failed to send measurement command\")\n",
    "\n",
    "# ボタンがクリックされたときのイベントを処理する関数\n",
    "def on_click(event):\n",
    "    clear_output(wait=True)\n",
    "    print(\"Starting the external program...\")\n",
    "    run_mesh_movement()\n",
    "    serialInst.close()\n",
    "    print(\"Program finished and serial port closed.\")\n",
    "\n",
    "# ボタンを作成\n",
    "start_button = widgets.Button(description=\"Click here to start the program\", layout=widgets.Layout(width='100%', height='100%'))\n",
    "start_button.style.button_color = 'lightblue'\n",
    "\n",
    "# ボタンクリックイベントを設定\n",
    "start_button.on_click(on_click)\n",
    "\n",
    "# Display Button\n",
    "display(start_button)\n"
   ]
  },
  {
   "cell_type": "markdown",
   "metadata": {},
   "source": [
    "### Voltage OFF"
   ]
  },
  {
   "cell_type": "code",
   "execution_count": null,
   "metadata": {},
   "outputs": [],
   "source": [
    "# Power off all\n",
    "out_put_off_all(rnd)"
   ]
  },
  {
   "cell_type": "markdown",
   "metadata": {},
   "source": [
    "## Data Save"
   ]
  },
  {
   "cell_type": "code",
   "execution_count": 9,
   "metadata": {},
   "outputs": [
    {
     "name": "stdout",
     "output_type": "stream",
     "text": [
      "Sent command: $A!\n",
      "Data Response: #S000B00EA011500420011!#UFFFF18051E0B373A00EA01000B!#S000B00EA011500420011!#S000B00EA011500420011!#S000D00EA011500420011!#UFFFF18051E0B373B00EA01000D!#S000D00EA011500420011!#S000D00EA011500420011!#S000B00EA011500420011!#UFFFF18051E0B380000EA01000D!#S000D00EA011500420011!#S000D00EA011500420011!#S000D00EA011500420011!#UFFFF18051E0B380100EA01000D!#S000D00EA011500420011!#S000D00EA011500420011!#S000B00EA011500420011!#UFFFF18051E0B380200EA01000B!#S000B00EA011500420011!#S000B00EA011500420011!#S000B00EA011500420011!#UFFFF18051E0B380300EA01000B!#S000B00EA011500420011!#S000B00EA011500420011!#S000D00EA011500420011!#UFFFF18051E0B380400EA01000D!#S000D00EA011500420011!#S000D00EA011500420011!#S000B00EA011500420011!#UFFFF18051E0B380500EA01000B!#S000B00EA011500420011!#S000B00EA011500420011!#S000B00EA011500420011!#UFFFF18051E0B380600EA01000D!#S000D00EA011500420011!#S000D00EA011500420011!#S000D00EA011500420011!#UFFFF18051E0B380700EA01000B!#S000B00EA011500420011!#S000B00EA011500420011!#S000D00EA011500420011!#UFFFF18051E0B380800EA01000D!#S000D00EA011500420011!#S000D00EA011500420011!#UFFFF18051E0B380900EA01000B!#S000D00EA011500420011!#S000B00EA011500420011!#UFFFF18051E0B380A00EA01000D!#S000D00EA011500420011!#UFFFF18051E0B380B00EA01000D!#S000D00EA011500420011!#S000D00EA011500420011!#UFFFF18051E0B380C00EA01000B!#S000D00EA011500420011!#S000B00EA011500420011!#UFFFF18051E0B380D00EA01000B!#S000D00EA011500420011!#S000B00EA011500420011!#UFFFF18051E0B380E00EA01000D!#S000D00EA011500420011!#S000D00EA011500420011!#UFFFF18051E0B380F00EA01000D!#S000B00EA011500420011!#S000D00EA011500420011!#UFFFF18051E0B381000EA01000D!#S000D00EA011500420011!#S000D00EA011500420011!#UFFFF18051E0B381100EA01000D!#S000B00EA011500420011!#S000D00EA011500420011!#UFFFF18051E0B381200EA01000B!#S000B00EA011500420011!#S000B00EA011500420011!#D000018051E0B362900E901000B!#D000118051E0B362C00E901000D!#D000218051E0B362F00E901000B!#D000318051E0B363200E901000B!#D000418051E0B363500E901000B!#D000518051E0B363800EA01000B!#D000618051E0B370200EA01000B!#D000718051E0B370500EA01000B!#D000818051E0B370800EA01000B!#D000918051E0B370B00EA01000B!#D000A18051E0B370E00EA01000B!#D000B18051E0B371000EA01000B!#UFFFF18051E0B381300EA01000D!#S000D00EA011500420011!\n",
      "                        response\n",
      "0   D000018051E0B362900E901000B!\n",
      "1   D000118051E0B362C00E901000D!\n",
      "2   D000218051E0B362F00E901000B!\n",
      "3   D000318051E0B363200E901000B!\n",
      "4   D000418051E0B363500E901000B!\n",
      "5   D000518051E0B363800EA01000B!\n",
      "6   D000618051E0B370200EA01000B!\n",
      "7   D000718051E0B370500EA01000B!\n",
      "8   D000818051E0B370800EA01000B!\n",
      "9   D000918051E0B370B00EA01000B!\n",
      "10  D000A18051E0B370E00EA01000B!\n",
      "11  D000B18051E0B371000EA01000B!\n",
      "Data saved to CSV\n"
     ]
    },
    {
     "data": {
      "text/html": [
       "<div>\n",
       "<style scoped>\n",
       "    .dataframe tbody tr th:only-of-type {\n",
       "        vertical-align: middle;\n",
       "    }\n",
       "\n",
       "    .dataframe tbody tr th {\n",
       "        vertical-align: top;\n",
       "    }\n",
       "\n",
       "    .dataframe thead th {\n",
       "        text-align: right;\n",
       "    }\n",
       "</style>\n",
       "<table border=\"1\" class=\"dataframe\">\n",
       "  <thead>\n",
       "    <tr style=\"text-align: right;\">\n",
       "      <th></th>\n",
       "      <th>response</th>\n",
       "    </tr>\n",
       "  </thead>\n",
       "  <tbody>\n",
       "    <tr>\n",
       "      <th>0</th>\n",
       "      <td>D000018051E0B362900E901000B!</td>\n",
       "    </tr>\n",
       "    <tr>\n",
       "      <th>1</th>\n",
       "      <td>D000118051E0B362C00E901000D!</td>\n",
       "    </tr>\n",
       "    <tr>\n",
       "      <th>2</th>\n",
       "      <td>D000218051E0B362F00E901000B!</td>\n",
       "    </tr>\n",
       "    <tr>\n",
       "      <th>3</th>\n",
       "      <td>D000318051E0B363200E901000B!</td>\n",
       "    </tr>\n",
       "    <tr>\n",
       "      <th>4</th>\n",
       "      <td>D000418051E0B363500E901000B!</td>\n",
       "    </tr>\n",
       "    <tr>\n",
       "      <th>5</th>\n",
       "      <td>D000518051E0B363800EA01000B!</td>\n",
       "    </tr>\n",
       "    <tr>\n",
       "      <th>6</th>\n",
       "      <td>D000618051E0B370200EA01000B!</td>\n",
       "    </tr>\n",
       "    <tr>\n",
       "      <th>7</th>\n",
       "      <td>D000718051E0B370500EA01000B!</td>\n",
       "    </tr>\n",
       "    <tr>\n",
       "      <th>8</th>\n",
       "      <td>D000818051E0B370800EA01000B!</td>\n",
       "    </tr>\n",
       "    <tr>\n",
       "      <th>9</th>\n",
       "      <td>D000918051E0B370B00EA01000B!</td>\n",
       "    </tr>\n",
       "    <tr>\n",
       "      <th>10</th>\n",
       "      <td>D000A18051E0B370E00EA01000B!</td>\n",
       "    </tr>\n",
       "    <tr>\n",
       "      <th>11</th>\n",
       "      <td>D000B18051E0B371000EA01000B!</td>\n",
       "    </tr>\n",
       "  </tbody>\n",
       "</table>\n",
       "</div>"
      ],
      "text/plain": [
       "                        response\n",
       "0   D000018051E0B362900E901000B!\n",
       "1   D000118051E0B362C00E901000D!\n",
       "2   D000218051E0B362F00E901000B!\n",
       "3   D000318051E0B363200E901000B!\n",
       "4   D000418051E0B363500E901000B!\n",
       "5   D000518051E0B363800EA01000B!\n",
       "6   D000618051E0B370200EA01000B!\n",
       "7   D000718051E0B370500EA01000B!\n",
       "8   D000818051E0B370800EA01000B!\n",
       "9   D000918051E0B370B00EA01000B!\n",
       "10  D000A18051E0B370E00EA01000B!\n",
       "11  D000B18051E0B371000EA01000B!"
      ]
     },
     "execution_count": 9,
     "metadata": {},
     "output_type": "execute_result"
    }
   ],
   "source": [
    "import csv\n",
    "import os\n",
    "import pandas as pd\n",
    "from datetime import datetime\n",
    "\n",
    "# Save folder\n",
    "folder_path = \"C:\\\\Users\\\\kary\\\\Documents\\\\9_data\\\\Electromagnet\\\\\"  # Change path for yourself\n",
    "file_path = os.path.join(folder_path, \"data.csv\")\n",
    "\n",
    "# Initialize CSV file if not exists\n",
    "def initialize_csv():\n",
    "    if not os.path.exists(file_path):\n",
    "        with open(file_path, mode='w', newline='') as file:\n",
    "            writer = csv.writer(file)\n",
    "            writer.writerow([\"Timestamp\", \"High_Precision_Timestamp\", \"X_Position\", \"Y_Position\", \"Magnetic_Flux\", \"Temperature\", \"Gauss_Value\"])\n",
    "\n",
    "# Add new columns to existing CSV\n",
    "def add_columns_to_csv():\n",
    "    df = pd.read_csv(file_path)\n",
    "    if 'Magnetic_Flux' not in df.columns:\n",
    "        df['Magnetic_Flux'] = ''\n",
    "    if 'Temperature' not in df.columns:\n",
    "        df['Temperature'] = ''\n",
    "    if 'Gauss_Value' not in df.columns:\n",
    "        df['Gauss_Value'] = ''\n",
    "    df.to_csv(file_path, index=False)\n",
    "\n",
    "# Save magnetic flux data to CSV\n",
    "def save_magnetic_flux_to_csv(response_list):\n",
    "    # Load existing CSV to DataFrame\n",
    "    df = pd.read_csv(file_path)\n",
    "    \n",
    "    # Ensure the necessary columns exist\n",
    "    if 'Magnetic_Flux' not in df.columns:\n",
    "        df['Magnetic_Flux'] = ''\n",
    "    if 'Temperature' not in df.columns:\n",
    "        df['Temperature'] = ''\n",
    "    if 'Gauss_Value' not in df.columns:\n",
    "        df['Gauss_Value'] = ''\n",
    "    \n",
    "    # Add new data to the respective columns\n",
    "    for i, response in enumerate(response_list):\n",
    "        if i < len(df):\n",
    "            temperature, gauss_value = parse_response(response)\n",
    "            df.at[i, 'Magnetic_Flux'] = response\n",
    "            df.at[i, 'Temperature'] = temperature\n",
    "            df.at[i, 'Gauss_Value'] = gauss_value\n",
    "        else:\n",
    "            break\n",
    "    \n",
    "    # Save DataFrame back to CSV\n",
    "    df.to_csv(file_path, index=False)\n",
    "\n",
    "# Function to parse the response string\n",
    "def parse_response(response):\n",
    "    try:\n",
    "        # Extract relevant parts of the response\n",
    "        temperature_hex = response[18:21]  # 温度番号\n",
    "        temperature_unit = response[22:23]  # 単位\n",
    "        gauss_hex = response[24:27]  # ガウス値\n",
    "        \n",
    "        # Convert temperature from hex to decimal\n",
    "        temperature = int(temperature_hex, 16)\n",
    "        # Apply unit\n",
    "        if temperature_unit == '1':\n",
    "            temperature = temperature / 10\n",
    "        \n",
    "        # Convert gauss value from hex to decimal and adjust for sign and scale\n",
    "        gauss_value = int(gauss_hex, 16)\n",
    "        if gauss_value & 0x8000:\n",
    "            gauss_value -= 0x10000\n",
    "        gauss_value = gauss_value / 10\n",
    "        \n",
    "        return temperature, gauss_value\n",
    "    except Exception as e:\n",
    "        # Handle parsing error\n",
    "        print(f\"Error parsing response: {response}, error: {e}\")\n",
    "        return None, None\n",
    "\n",
    "# 初期化と列の追加\n",
    "initialize_csv()\n",
    "add_columns_to_csv()\n",
    "\n",
    "# データ取得コマンドを送信して応答を取得\n",
    "data_response = send_receive_command(\"$A!\")\n",
    "if data_response:\n",
    "    print(f\"Data Response: {data_response.decode('latin-1')}\")\n",
    "else:\n",
    "    print(\"No data received\")\n",
    "\n",
    "# 応答データをデータフレームに変換\n",
    "if data_response:\n",
    "    response_str = data_response.decode('latin-1')\n",
    "    response_list = response_str.split('#')\n",
    "    # 空のエントリを削除し、#Dで始まり!で終わるエントリのみを抽出\n",
    "    response_list = [entry for entry in response_list if entry.startswith('D') and entry.endswith('!')]\n",
    "    \n",
    "    # データフレームに変換\n",
    "    df = pd.DataFrame(response_list, columns=[\"response\"])\n",
    "    print(df)\n",
    "    \n",
    "    # 温度とガウス値を解析し、CSVに保存\n",
    "    save_magnetic_flux_to_csv(response_list)\n",
    "    print(\"Data saved to CSV\")\n",
    "else:\n",
    "    print(\"No data to convert to DataFrame\")\n",
    "\n",
    "df\n"
   ]
  },
  {
   "cell_type": "code",
   "execution_count": null,
   "metadata": {},
   "outputs": [],
   "source": []
  },
  {
   "cell_type": "code",
   "execution_count": null,
   "metadata": {},
   "outputs": [],
   "source": []
  }
 ],
 "metadata": {
  "kernelspec": {
   "display_name": "Python 3",
   "language": "python",
   "name": "python3"
  },
  "language_info": {
   "codemirror_mode": {
    "name": "ipython",
    "version": 3
   },
   "file_extension": ".py",
   "mimetype": "text/x-python",
   "name": "python",
   "nbconvert_exporter": "python",
   "pygments_lexer": "ipython3",
   "version": "3.11.9"
  }
 },
 "nbformat": 4,
 "nbformat_minor": 2
}
