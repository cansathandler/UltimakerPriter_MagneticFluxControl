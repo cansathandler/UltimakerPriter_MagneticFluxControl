{
 "cells": [
  {
   "cell_type": "markdown",
   "metadata": {},
   "source": [
    "## Settings"
   ]
  },
  {
   "cell_type": "markdown",
   "metadata": {},
   "source": [
    "### DC power supply"
   ]
  },
  {
   "cell_type": "code",
   "execution_count": 1,
   "metadata": {},
   "outputs": [
    {
     "data": {
      "text/plain": [
       "('ASRL7::INSTR',)"
      ]
     },
     "execution_count": 1,
     "metadata": {},
     "output_type": "execute_result"
    }
   ],
   "source": [
    "import pyvisa\n",
    "\n",
    "#Create Resource manager instance for DC power supply\n",
    "rm= pyvisa.ResourceManager()\n",
    "#Check the VISA device\n",
    "rm.list_resources()"
   ]
  },
  {
   "cell_type": "code",
   "execution_count": 9,
   "metadata": {},
   "outputs": [
    {
     "ename": "VisaIOError",
     "evalue": "VI_ERROR_TMO (-1073807339): Timeout expired before operation completed.",
     "output_type": "error",
     "traceback": [
      "\u001b[1;31m---------------------------------------------------------------------------\u001b[0m",
      "\u001b[1;31mVisaIOError\u001b[0m                               Traceback (most recent call last)",
      "Cell \u001b[1;32mIn[9], line 5\u001b[0m\n\u001b[0;32m      2\u001b[0m rnd \u001b[38;5;241m=\u001b[39m rm\u001b[38;5;241m.\u001b[39mopen_resource(\u001b[38;5;124m'\u001b[39m\u001b[38;5;124mASRL7::INSTR\u001b[39m\u001b[38;5;124m'\u001b[39m)\n\u001b[0;32m      4\u001b[0m \u001b[38;5;66;03m#Checking the machine name\u001b[39;00m\n\u001b[1;32m----> 5\u001b[0m \u001b[38;5;28mprint\u001b[39m(\u001b[43mrnd\u001b[49m\u001b[38;5;241;43m.\u001b[39;49m\u001b[43mquery\u001b[49m\u001b[43m(\u001b[49m\u001b[38;5;124;43m'\u001b[39;49m\u001b[38;5;124;43m*IDN?\u001b[39;49m\u001b[38;5;124;43m'\u001b[39;49m\u001b[43m)\u001b[49m)\n",
      "File \u001b[1;32mc:\\Users\\kary\\AppData\\Local\\Programs\\Python\\Python311\\Lib\\site-packages\\pyvisa\\resources\\messagebased.py:647\u001b[0m, in \u001b[0;36mMessageBasedResource.query\u001b[1;34m(self, message, delay)\u001b[0m\n\u001b[0;32m    644\u001b[0m \u001b[38;5;28;01mif\u001b[39;00m delay \u001b[38;5;241m>\u001b[39m \u001b[38;5;241m0.0\u001b[39m:\n\u001b[0;32m    645\u001b[0m     time\u001b[38;5;241m.\u001b[39msleep(delay)\n\u001b[1;32m--> 647\u001b[0m \u001b[38;5;28;01mreturn\u001b[39;00m \u001b[38;5;28;43mself\u001b[39;49m\u001b[38;5;241;43m.\u001b[39;49m\u001b[43mread\u001b[49m\u001b[43m(\u001b[49m\u001b[43m)\u001b[49m\n",
      "File \u001b[1;32mc:\\Users\\kary\\AppData\\Local\\Programs\\Python\\Python311\\Lib\\site-packages\\pyvisa\\resources\\messagebased.py:485\u001b[0m, in \u001b[0;36mMessageBasedResource.read\u001b[1;34m(self, termination, encoding)\u001b[0m\n\u001b[0;32m    483\u001b[0m \u001b[38;5;28;01mif\u001b[39;00m termination \u001b[38;5;129;01mis\u001b[39;00m \u001b[38;5;28;01mNone\u001b[39;00m:\n\u001b[0;32m    484\u001b[0m     termination \u001b[38;5;241m=\u001b[39m \u001b[38;5;28mself\u001b[39m\u001b[38;5;241m.\u001b[39m_read_termination\n\u001b[1;32m--> 485\u001b[0m     message \u001b[38;5;241m=\u001b[39m \u001b[38;5;28;43mself\u001b[39;49m\u001b[38;5;241;43m.\u001b[39;49m\u001b[43m_read_raw\u001b[49m\u001b[43m(\u001b[49m\u001b[43m)\u001b[49m\u001b[38;5;241m.\u001b[39mdecode(enco)\n\u001b[0;32m    486\u001b[0m \u001b[38;5;28;01melse\u001b[39;00m:\n\u001b[0;32m    487\u001b[0m     \u001b[38;5;28;01mwith\u001b[39;00m \u001b[38;5;28mself\u001b[39m\u001b[38;5;241m.\u001b[39mread_termination_context(termination):\n",
      "File \u001b[1;32mc:\\Users\\kary\\AppData\\Local\\Programs\\Python\\Python311\\Lib\\site-packages\\pyvisa\\resources\\messagebased.py:441\u001b[0m, in \u001b[0;36mMessageBasedResource._read_raw\u001b[1;34m(self, size)\u001b[0m\n\u001b[0;32m    434\u001b[0m     \u001b[38;5;28;01mwhile\u001b[39;00m status \u001b[38;5;241m==\u001b[39m loop_status:\n\u001b[0;32m    435\u001b[0m         logger\u001b[38;5;241m.\u001b[39mdebug(\n\u001b[0;32m    436\u001b[0m             \u001b[38;5;124m\"\u001b[39m\u001b[38;5;132;01m%s\u001b[39;00m\u001b[38;5;124m - reading \u001b[39m\u001b[38;5;132;01m%d\u001b[39;00m\u001b[38;5;124m bytes (last status \u001b[39m\u001b[38;5;132;01m%r\u001b[39;00m\u001b[38;5;124m)\u001b[39m\u001b[38;5;124m\"\u001b[39m,\n\u001b[0;32m    437\u001b[0m             \u001b[38;5;28mself\u001b[39m\u001b[38;5;241m.\u001b[39m_resource_name,\n\u001b[0;32m    438\u001b[0m             size,\n\u001b[0;32m    439\u001b[0m             status,\n\u001b[0;32m    440\u001b[0m         )\n\u001b[1;32m--> 441\u001b[0m         chunk, status \u001b[38;5;241m=\u001b[39m \u001b[38;5;28;43mself\u001b[39;49m\u001b[38;5;241;43m.\u001b[39;49m\u001b[43mvisalib\u001b[49m\u001b[38;5;241;43m.\u001b[39;49m\u001b[43mread\u001b[49m\u001b[43m(\u001b[49m\u001b[38;5;28;43mself\u001b[39;49m\u001b[38;5;241;43m.\u001b[39;49m\u001b[43msession\u001b[49m\u001b[43m,\u001b[49m\u001b[43m \u001b[49m\u001b[43msize\u001b[49m\u001b[43m)\u001b[49m\n\u001b[0;32m    442\u001b[0m         ret\u001b[38;5;241m.\u001b[39mextend(chunk)\n\u001b[0;32m    443\u001b[0m \u001b[38;5;28;01mexcept\u001b[39;00m errors\u001b[38;5;241m.\u001b[39mVisaIOError \u001b[38;5;28;01mas\u001b[39;00m e:\n",
      "File \u001b[1;32mc:\\Users\\kary\\AppData\\Local\\Programs\\Python\\Python311\\Lib\\site-packages\\pyvisa\\ctwrapper\\functions.py:2336\u001b[0m, in \u001b[0;36mread\u001b[1;34m(library, session, count)\u001b[0m\n\u001b[0;32m   2334\u001b[0m buffer \u001b[38;5;241m=\u001b[39m create_string_buffer(count)\n\u001b[0;32m   2335\u001b[0m return_count \u001b[38;5;241m=\u001b[39m ViUInt32()\n\u001b[1;32m-> 2336\u001b[0m ret \u001b[38;5;241m=\u001b[39m \u001b[43mlibrary\u001b[49m\u001b[38;5;241;43m.\u001b[39;49m\u001b[43mviRead\u001b[49m\u001b[43m(\u001b[49m\u001b[43msession\u001b[49m\u001b[43m,\u001b[49m\u001b[43m \u001b[49m\u001b[43mbuffer\u001b[49m\u001b[43m,\u001b[49m\u001b[43m \u001b[49m\u001b[43mcount\u001b[49m\u001b[43m,\u001b[49m\u001b[43m \u001b[49m\u001b[43mbyref\u001b[49m\u001b[43m(\u001b[49m\u001b[43mreturn_count\u001b[49m\u001b[43m)\u001b[49m\u001b[43m)\u001b[49m\n\u001b[0;32m   2337\u001b[0m \u001b[38;5;28;01mreturn\u001b[39;00m buffer\u001b[38;5;241m.\u001b[39mraw[: return_count\u001b[38;5;241m.\u001b[39mvalue], ret\n",
      "File \u001b[1;32mc:\\Users\\kary\\AppData\\Local\\Programs\\Python\\Python311\\Lib\\site-packages\\pyvisa\\ctwrapper\\highlevel.py:226\u001b[0m, in \u001b[0;36mIVIVisaLibrary._return_handler\u001b[1;34m(self, ret_value, func, arguments)\u001b[0m\n\u001b[0;32m    223\u001b[0m         \u001b[38;5;66;03m# Set session back to a safe value\u001b[39;00m\n\u001b[0;32m    224\u001b[0m         session \u001b[38;5;241m=\u001b[39m \u001b[38;5;28;01mNone\u001b[39;00m\n\u001b[1;32m--> 226\u001b[0m \u001b[38;5;28;01mreturn\u001b[39;00m \u001b[38;5;28;43mself\u001b[39;49m\u001b[38;5;241;43m.\u001b[39;49m\u001b[43mhandle_return_value\u001b[49m\u001b[43m(\u001b[49m\u001b[43msession\u001b[49m\u001b[43m,\u001b[49m\u001b[43m \u001b[49m\u001b[43mret_value\u001b[49m\u001b[43m)\u001b[49m\n",
      "File \u001b[1;32mc:\\Users\\kary\\AppData\\Local\\Programs\\Python\\Python311\\Lib\\site-packages\\pyvisa\\highlevel.py:251\u001b[0m, in \u001b[0;36mVisaLibraryBase.handle_return_value\u001b[1;34m(self, session, status_code)\u001b[0m\n\u001b[0;32m    248\u001b[0m     \u001b[38;5;28mself\u001b[39m\u001b[38;5;241m.\u001b[39m_last_status_in_session[session] \u001b[38;5;241m=\u001b[39m rv\n\u001b[0;32m    250\u001b[0m \u001b[38;5;28;01mif\u001b[39;00m rv \u001b[38;5;241m<\u001b[39m \u001b[38;5;241m0\u001b[39m:\n\u001b[1;32m--> 251\u001b[0m     \u001b[38;5;28;01mraise\u001b[39;00m errors\u001b[38;5;241m.\u001b[39mVisaIOError(rv)\n\u001b[0;32m    253\u001b[0m \u001b[38;5;28;01mif\u001b[39;00m rv \u001b[38;5;129;01min\u001b[39;00m \u001b[38;5;28mself\u001b[39m\u001b[38;5;241m.\u001b[39missue_warning_on:\n\u001b[0;32m    254\u001b[0m     \u001b[38;5;28;01mif\u001b[39;00m session \u001b[38;5;129;01mand\u001b[39;00m rv \u001b[38;5;129;01mnot\u001b[39;00m \u001b[38;5;129;01min\u001b[39;00m \u001b[38;5;28mself\u001b[39m\u001b[38;5;241m.\u001b[39m_ignore_warning_in_session[session]:\n",
      "\u001b[1;31mVisaIOError\u001b[0m: VI_ERROR_TMO (-1073807339): Timeout expired before operation completed."
     ]
    }
   ],
   "source": [
    "# Start the communication by VISA identifying resource name\n",
    "rnd = rm.open_resource('ASRL7::INSTR')\n",
    "\n",
    "#Checking the machine name\n",
    "print(rnd.query('*IDN?'))"
   ]
  },
  {
   "cell_type": "markdown",
   "metadata": {},
   "source": [
    "### Definition of Stabilized Power Supply Operating Functions"
   ]
  },
  {
   "cell_type": "code",
   "execution_count": 10,
   "metadata": {},
   "outputs": [],
   "source": [
    "#通信インスタンスとチャンネルと電圧と電流を指定して出力オン\n",
    "def out_put_on(sps,ch,vol,cur):\n",
    "    sps.write(\"VSET\"+str(ch)+\":\"+str(vol)) #set ch1 output current 0.01V\n",
    "    sps.write(\"ISET\"+str(ch)+\":\"+str(cur)) #set ch1 output current 0.01A\n",
    "    sps.write(\"OUT1\")\n",
    "\n",
    "def out_put_on_only_V(sps,ch,vol):\n",
    "    sps.write(\"VSET\"+str(ch)+\":\"+str(vol)) #set ch1 output current 0.01V\n",
    "    sps.write(\"ISET\"+str(ch)+\":0\") #set ch1 output current 0A\n",
    "    sps.write(\"OUT1\")\n",
    "\n",
    "#通信インスタンスとチャンネル番号を指定して出力オフ\n",
    "def out_put_off(sps,ch):\n",
    "    sps.write(\"VSET\"+str(ch)+\":0\") \n",
    "    sps.write(\"ISET\"+str(ch)+\":0\") \n",
    "    sps.write(\"OUT1\")\n",
    "\n",
    "def out_put_off_all(sps):\n",
    "    sps.write(\"VSET1:0\") \n",
    "    sps.write(\"ISET1:0\") \n",
    "    sps.write(\"VSET2:0\") \n",
    "    sps.write(\"ISET2:0\") \n",
    "    sps.write(\"OUT1\")"
   ]
  },
  {
   "cell_type": "markdown",
   "metadata": {},
   "source": [
    "### Teensy4.0"
   ]
  },
  {
   "cell_type": "code",
   "execution_count": 4,
   "metadata": {},
   "outputs": [
    {
     "name": "stdout",
     "output_type": "stream",
     "text": [
      "COM7 - Serielles USB-Gerät (COM7)\n",
      "COM3 - Intel(R) Active Management Technology - SOL (COM3)\n",
      "COM7 - Serielles USB-Gerät (COM7)\n",
      "COM7\n"
     ]
    }
   ],
   "source": [
    "import serial.tools.list_ports\n",
    "\n",
    "# COM port setting of Teensy4.0\n",
    "\n",
    "# get available port list\n",
    "ports = serial.tools.list_ports.comports()\n",
    "portList = []\n",
    "\n",
    "for one in ports:\n",
    "    portList.append(str(one))\n",
    "    print(str(one))\n",
    "\n",
    "# select COM port of Teensy: Serielles USB-Gerät\n",
    "com = input(\"Select Com Port for Teensy4.0 #:\")\n",
    "\n",
    "use = None\n",
    "for i in range(len(portList)):\n",
    "    if portList[i].startswith(\"COM\" + str(com)):\n",
    "        print(portList[i])\n",
    "        use = \"COM\" + str(com)\n",
    "        print(use)\n",
    "        break"
   ]
  },
  {
   "cell_type": "code",
   "execution_count": 2,
   "metadata": {},
   "outputs": [
    {
     "name": "stdout",
     "output_type": "stream",
     "text": [
      "Serial port opened successfully.\n"
     ]
    }
   ],
   "source": [
    "# Portrate setting\n",
    "baudrate = 115200\n",
    "\n",
    "if use is None:\n",
    "    print(\"Selected COM port not found.\")\n",
    "else:\n",
    "    # Make serial port instance\n",
    "    try:\n",
    "        serialInst = serial.Serial(use, baudrate, timeout=1) \n",
    "        print(\"Serial port opened successfully.\")\n",
    "    except serial.SerialException as e:\n",
    "        print(f\"Error opening serial port: {e}\")\n",
    "        exit()\n"
   ]
  },
  {
   "cell_type": "markdown",
   "metadata": {},
   "source": [
    "## Adjustment move"
   ]
  },
  {
   "cell_type": "markdown",
   "metadata": {},
   "source": [
    "### Home (Please not use: Limit Switch is not working now)"
   ]
  },
  {
   "cell_type": "code",
   "execution_count": 3,
   "metadata": {},
   "outputs": [],
   "source": [
    "#serialInst.write(('H').encode('utf-8'))"
   ]
  },
  {
   "cell_type": "markdown",
   "metadata": {},
   "source": [
    "### X-axis (Enter arbitrary distance [mm])"
   ]
  },
  {
   "cell_type": "code",
   "execution_count": 4,
   "metadata": {},
   "outputs": [
    {
     "data": {
      "text/plain": [
       "1"
      ]
     },
     "execution_count": 4,
     "metadata": {},
     "output_type": "execute_result"
    }
   ],
   "source": [
    "displacement = input(\"X axis Distance (mm)\")\n",
    "serialInst.write(('X' + displacement).encode('utf-8'))"
   ]
  },
  {
   "cell_type": "markdown",
   "metadata": {},
   "source": [
    "### Y-axis (Enter arbitrary distance [mm])"
   ]
  },
  {
   "cell_type": "code",
   "execution_count": 5,
   "metadata": {},
   "outputs": [
    {
     "data": {
      "text/plain": [
       "1"
      ]
     },
     "execution_count": 5,
     "metadata": {},
     "output_type": "execute_result"
    }
   ],
   "source": [
    "displacement = input(\"Y axis Distance (mm)\")\n",
    "serialInst.write(('Y' + displacement).encode('utf-8'))"
   ]
  },
  {
   "cell_type": "markdown",
   "metadata": {},
   "source": [
    "### Z-axis (Enter arbitrary distance [mm])"
   ]
  },
  {
   "cell_type": "code",
   "execution_count": 6,
   "metadata": {},
   "outputs": [
    {
     "data": {
      "text/plain": [
       "1"
      ]
     },
     "execution_count": 6,
     "metadata": {},
     "output_type": "execute_result"
    }
   ],
   "source": [
    "displacement = input(\"Z axis Distance (mm)\")\n",
    "serialInst.write(('Z' + displacement).encode('utf-8'))"
   ]
  },
  {
   "cell_type": "markdown",
   "metadata": {},
   "source": [
    "## Measurement"
   ]
  },
  {
   "cell_type": "markdown",
   "metadata": {},
   "source": [
    "### DC power supply"
   ]
  },
  {
   "cell_type": "code",
   "execution_count": null,
   "metadata": {},
   "outputs": [],
   "source": [
    "#DCDC converter input active voltage\n",
    "out_put_on(rnd,1,0,0.1) # channel 1, 0 V, 0.1 A"
   ]
  },
  {
   "cell_type": "markdown",
   "metadata": {},
   "source": [
    "### Stepping motor move"
   ]
  },
  {
   "cell_type": "code",
   "execution_count": 3,
   "metadata": {},
   "outputs": [
    {
     "name": "stdout",
     "output_type": "stream",
     "text": [
      "Starting the external program...\n",
      "No data received.\n",
      "Received data: Stopped at X: 0.5, Y: 0.0\n",
      "Received data: Stopped at X: 1.0, Y: 0.0\n",
      "Received data: Stopped at X: 0.0, Y: 0.5\n",
      "Received data: Stopped at X: 0.5, Y: 0.5\n",
      "Received data: Stopped at X: 1.0, Y: 0.5\n",
      "Received data: Stopped at X: 0.0, Y: 1.0\n",
      "Received data: Stopped at X: 0.5, Y: 1.0\n",
      "Received data: Stopped at X: 1.0, Y: 1.0\n",
      "Program finished and serial port closed.\n"
     ]
    }
   ],
   "source": [
    "import csv\n",
    "import os\n",
    "import time\n",
    "import serial.tools.list_ports\n",
    "import ipywidgets as widgets\n",
    "from IPython.display import display, clear_output\n",
    "from datetime import datetime\n",
    "\n",
    "# Save folder\n",
    "folder_path = \"C:\\\\Users\\\\kary\\\\Documents\\\\9_data\\\\Electromagnet\\\\\" # change path for yourself\n",
    "file_path = os.path.join(folder_path, \"position_data.csv\")\n",
    "\n",
    "# Initialize CSV file\n",
    "def initialize_csv():\n",
    "    with open(file_path, mode='w', newline='') as file:\n",
    "        writer = csv.writer(file)\n",
    "        writer.writerow([\"Timestamp\", \"High_Precision_Timestamp\", \"X_Position\", \"Y_Position\"])\n",
    "\n",
    "# 位置情報のCSVファイルへの保存\n",
    "def save_position_to_csv(x, y):\n",
    "    now = datetime.now().strftime(\"%m/%d/%Y %H:%M:%S.%f\")[:-3]\n",
    "    high_precision_time = time.perf_counter()\n",
    "    with open(file_path, mode='a', newline='') as file:\n",
    "        writer = csv.writer(file)\n",
    "        writer.writerow([now, high_precision_time, x, y])\n",
    "\n",
    "# メッシュ設定\n",
    "x_mesh_size = 1.0  # mm\n",
    "y_mesh_size = 1.0  # mm\n",
    "resolution = 0.5  # mm\n",
    "x_num_points = int(x_mesh_size / resolution + 1)\n",
    "y_num_points = int(y_mesh_size / resolution + 1)\n",
    "\n",
    "def move_motor(axis, displacement):\n",
    "    command = axis + str(displacement)\n",
    "    serialInst.write(command.encode('utf-8'))\n",
    "    # モーターが動作するための待機時間（調整が必要）\n",
    "    time.sleep(1)\n",
    "\n",
    "def run_mesh_movement():\n",
    "    current_x = 0.0\n",
    "    current_y = 0.0\n",
    "    initialize_csv()\n",
    "    save_position_to_csv(current_x, current_y)  # 初期位置 (0, 0) を記録\n",
    "\n",
    "    for y in range(y_num_points):\n",
    "        for x in range(x_num_points):\n",
    "            target_y = y * resolution\n",
    "            target_x = x * resolution\n",
    "\n",
    "            # Y軸の相対位置を計算\n",
    "            if target_y != current_y:\n",
    "                move_motor('Y', target_y - current_y)\n",
    "                current_y = target_y\n",
    "            \n",
    "            # X軸の相対位置を計算\n",
    "            if target_x != current_x:\n",
    "                move_motor('X', target_x - current_x)\n",
    "                current_x = target_x\n",
    "\n",
    "            # 物体が位置に到達するのを待つ（調整が必要）\n",
    "            time.sleep(1)\n",
    "\n",
    "            # シリアルポートからデータを読み取る\n",
    "            try:\n",
    "                if serialInst.in_waiting > 0:\n",
    "                    data = serialInst.readline().decode('utf-8').strip()\n",
    "                    if data == \"Stopped\":\n",
    "                        save_position_to_csv(current_x, current_y)\n",
    "                        print(f\"Received data: {data} at X: {current_x}, Y: {current_y}\")\n",
    "                    else:\n",
    "                        print(f\"Unexpected data: {data}\")\n",
    "                else:\n",
    "                    print(\"No data received.\")\n",
    "            except serial.SerialException as e:\n",
    "                print(f\"Error reading data: {e}\")\n",
    "\n",
    "        # 行の終わりで次の行に移動する前にX軸をリセットする\n",
    "        if y != y_num_points - 1:\n",
    "            move_motor('X', -current_x)\n",
    "            current_x = 0.0\n",
    "\n",
    "# ボタンがクリックされたときのイベントを処理する関数\n",
    "def on_click(event):\n",
    "    clear_output(wait=True)\n",
    "    print(\"Starting the external program...\")\n",
    "    run_mesh_movement()\n",
    "    serialInst.close()\n",
    "    print(\"Program finished and serial port closed.\")\n",
    "\n",
    "# ボタンを作成\n",
    "start_button = widgets.Button(description=\"Click here to start the program\", layout=widgets.Layout(width='100%', height='100%'))\n",
    "start_button.style.button_color = 'lightblue'\n",
    "\n",
    "# ボタンクリックイベントを設定\n",
    "start_button.on_click(on_click)\n",
    "\n",
    "# Display Button\n",
    "display(start_button)\n"
   ]
  },
  {
   "cell_type": "markdown",
   "metadata": {},
   "source": [
    "### Voltage OFF"
   ]
  },
  {
   "cell_type": "code",
   "execution_count": null,
   "metadata": {},
   "outputs": [],
   "source": [
    "# Power off all\n",
    "out_put_off_all(rnd)"
   ]
  }
 ],
 "metadata": {
  "kernelspec": {
   "display_name": "Python 3",
   "language": "python",
   "name": "python3"
  },
  "language_info": {
   "codemirror_mode": {
    "name": "ipython",
    "version": 3
   },
   "file_extension": ".py",
   "mimetype": "text/x-python",
   "name": "python",
   "nbconvert_exporter": "python",
   "pygments_lexer": "ipython3",
   "version": "3.11.9"
  }
 },
 "nbformat": 4,
 "nbformat_minor": 2
}
