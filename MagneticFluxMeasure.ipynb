{
 "cells": [
  {
   "cell_type": "markdown",
   "metadata": {},
   "source": [
    "## Settings"
   ]
  },
  {
   "cell_type": "markdown",
   "metadata": {},
   "source": [
    "### DC power supply"
   ]
  },
  {
   "cell_type": "code",
   "execution_count": 1,
   "metadata": {},
   "outputs": [
    {
     "data": {
      "text/plain": [
       "('ASRL5::INSTR', 'ASRL6::INSTR', 'ASRL9::INSTR')"
      ]
     },
     "execution_count": 1,
     "metadata": {},
     "output_type": "execute_result"
    }
   ],
   "source": [
    "import pyvisa\n",
    "\n",
    "#Create Resource manager instance for DC power supply\n",
    "rm= pyvisa.ResourceManager()\n",
    "#Check the VISA device\n",
    "rm.list_resources()"
   ]
  },
  {
   "cell_type": "code",
   "execution_count": 2,
   "metadata": {},
   "outputs": [
    {
     "name": "stdout",
     "output_type": "stream",
     "text": [
      "RND 320-KD3305P V4.2 SN:09924475\n",
      "\n"
     ]
    }
   ],
   "source": [
    "# Start the communication by VISA identifying resource name\n",
    "rnd = rm.open_resource('ASRL9::INSTR')\n",
    "\n",
    "#Checking the machine name\n",
    "print(rnd.query('*IDN?'))"
   ]
  },
  {
   "cell_type": "markdown",
   "metadata": {},
   "source": [
    "#### Definition of Stabilized Power Supply Operating Functions"
   ]
  },
  {
   "cell_type": "code",
   "execution_count": 3,
   "metadata": {},
   "outputs": [],
   "source": [
    "#Specify the communication instance, channel, voltage and current and turn on the output\n",
    "def out_put_on(sps,ch,vol,cur):\n",
    "    sps.write(\"VSET\"+str(ch)+\":\"+str(vol)) #set ch1 output current 0.01V\n",
    "    sps.write(\"ISET\"+str(ch)+\":\"+str(cur)) #set ch1 output current 0.01A\n",
    "    sps.write(\"OUT1\")\n",
    "\n",
    "def out_put_on_only_V(sps,ch,vol):\n",
    "    sps.write(\"VSET\"+str(ch)+\":\"+str(vol)) #set ch1 output current 0.01V\n",
    "    sps.write(\"ISET\"+str(ch)+\":0\") #set ch1 output current 0A\n",
    "    sps.write(\"OUT1\")\n",
    "\n",
    "#Turn off output by specifying communication instance and channel number\n",
    "def out_put_off(sps,ch):\n",
    "    sps.write(\"VSET\"+str(ch)+\":0\") \n",
    "    sps.write(\"ISET\"+str(ch)+\":0\") \n",
    "    sps.write(\"OUT1\")\n",
    "\n",
    "def out_put_off_all(sps):\n",
    "    sps.write(\"VSET1:0\") \n",
    "    sps.write(\"ISET1:0\") \n",
    "    sps.write(\"VSET2:0\") \n",
    "    sps.write(\"ISET2:0\") \n",
    "    sps.write(\"OUT1\")"
   ]
  },
  {
   "cell_type": "markdown",
   "metadata": {},
   "source": [
    "### Magnet meter"
   ]
  },
  {
   "cell_type": "code",
   "execution_count": 4,
   "metadata": {},
   "outputs": [
    {
     "name": "stdout",
     "output_type": "stream",
     "text": [
      "Sent command: $C!\n",
      "Response: #ok!#S000300D9015100420011!#S000300D9015100420011!#UFFFF18051F10192000D9018005!#S000500D9015100420011!#S000500D9015100420011!\n",
      "Sent command: $Y000001!\n",
      "Response: #ok!#UFFFF18051F10192100D9018003!#S000300D9015100420011!#S000300D9015100420011!\n"
     ]
    }
   ],
   "source": [
    "import serial\n",
    "import serial.tools.list_ports\n",
    "import time\n",
    "import pandas as pd\n",
    "\n",
    "# Find and configure the serial port\n",
    "def configure_serial():\n",
    "    ports = serial.tools.list_ports.comports()\n",
    "    for port in ports:\n",
    "        if \"Prolific PL2303GC USB Serial COM Port\" in port.description:\n",
    "            return serial.Serial(\n",
    "                port.device,\n",
    "                baudrate=9600,\n",
    "                parity=serial.PARITY_NONE,\n",
    "                stopbits=serial.STOPBITS_ONE,\n",
    "                bytesize=serial.EIGHTBITS,\n",
    "                timeout=1\n",
    "            )\n",
    "    raise IOError(\"Prolific PL2303GC USB Serial COM Port not found\")\n",
    "\n",
    "ser = configure_serial()\n",
    "\n",
    "# Function to send command and check if response is #ok!\n",
    "def send_command_with_ok_check(command, retries=5):\n",
    "    for attempt in range(retries):\n",
    "        ser.write((command + '\\r\\n').encode())\n",
    "        print(f\"Sent command: {command}\")  # debug\n",
    "        time.sleep(1)\n",
    "        response = ser.read_all()\n",
    "        print(f\"Response: {response.decode('latin-1')}\")  # debug\n",
    "        if b'#ok!' in response:\n",
    "            return True\n",
    "        print(f\"Retry {attempt + 1}/{retries} for command: {command}\")\n",
    "    return False\n",
    "\n",
    "def send_receive_command(command):\n",
    "    try:\n",
    "        ser.write((command + '\\r\\n').encode())\n",
    "        print(f\"Sent command: {command}\")  # debug\n",
    "        time.sleep(1)  # Increase response wait time\n",
    "        response = ser.read_all()  # read all responses\n",
    "        return response\n",
    "    except serial.SerialException as e:\n",
    "        print(f\"Serial exception: {e}\")\n",
    "        return None\n",
    "    except Exception as e:\n",
    "        print(f\"Unexpected error: {e}\")\n",
    "        return None\n",
    "\n",
    "# send data clear\n",
    "if not send_command_with_ok_check(\"$C!\"):\n",
    "    print(\"Failed to clear data\")\n",
    "\n",
    "# setting reading interval\n",
    "if not send_command_with_ok_check(\"$Y000001!\"):\n",
    "    print(\"Failed to set record interval\")\n"
   ]
  },
  {
   "cell_type": "markdown",
   "metadata": {},
   "source": [
    "### Control board of Ultimaker (Teensy4.0)"
   ]
  },
  {
   "cell_type": "code",
   "execution_count": 5,
   "metadata": {},
   "outputs": [
    {
     "name": "stdout",
     "output_type": "stream",
     "text": [
      "COM9 - Serielles USB-Gerät (COM9)\n",
      "COM6 - Prolific PL2303GC USB Serial COM Port (COM6)\n",
      "COM3 - Intel(R) Active Management Technology - SOL (COM3)\n",
      "COM5 - Serielles USB-Gerät (COM5)\n",
      "Serial port opened successfully.\n"
     ]
    }
   ],
   "source": [
    "import serial.tools.list_ports\n",
    "\n",
    "# obtain available port list\n",
    "ports = serial.tools.list_ports.comports()\n",
    "portList = []\n",
    "\n",
    "for one in ports:\n",
    "    portList.append(str(one))\n",
    "    print(str(one))\n",
    "\n",
    "# need to choose port of Teensy4.0\n",
    "use = 'COM5'\n",
    "# Portrate setting\n",
    "baudrate = 115200\n",
    "\n",
    "if use is None:\n",
    "    print(\"Selected COM port not found.\")\n",
    "else:\n",
    "    # Make serial port instance\n",
    "    try:\n",
    "        serialInst = serial.Serial(use, baudrate, timeout=1) \n",
    "        print(\"Serial port opened successfully.\")\n",
    "    except serial.SerialException as e:\n",
    "        print(f\"Error opening serial port: {e}\")\n",
    "        exit()"
   ]
  },
  {
   "cell_type": "markdown",
   "metadata": {},
   "source": [
    "## Adjustment of position"
   ]
  },
  {
   "cell_type": "markdown",
   "metadata": {},
   "source": [
    "### Home (Please not use: Limit Switch is not working now)"
   ]
  },
  {
   "cell_type": "code",
   "execution_count": 6,
   "metadata": {},
   "outputs": [],
   "source": [
    "#serialInst.write(('H').encode('utf-8'))"
   ]
  },
  {
   "cell_type": "markdown",
   "metadata": {},
   "source": [
    "### X-axis (Enter arbitrary distance [mm])"
   ]
  },
  {
   "cell_type": "code",
   "execution_count": 7,
   "metadata": {},
   "outputs": [
    {
     "ename": "ValueError",
     "evalue": "invalid literal for int() with base 10: ''",
     "output_type": "error",
     "traceback": [
      "\u001b[1;31m---------------------------------------------------------------------------\u001b[0m",
      "\u001b[1;31mValueError\u001b[0m                                Traceback (most recent call last)",
      "Cell \u001b[1;32mIn[7], line 1\u001b[0m\n\u001b[1;32m----> 1\u001b[0m displacement \u001b[38;5;241m=\u001b[39m \u001b[38;5;28mstr\u001b[39m(\u001b[38;5;28;43mint\u001b[39;49m\u001b[43m(\u001b[49m\u001b[38;5;28;43minput\u001b[39;49m\u001b[43m(\u001b[49m\u001b[38;5;124;43m\"\u001b[39;49m\u001b[38;5;124;43mX axis Distance (mm)\u001b[39;49m\u001b[38;5;124;43m\"\u001b[39;49m\u001b[43m)\u001b[49m\u001b[43m)\u001b[49m \u001b[38;5;241m*\u001b[39m \u001b[38;5;241m2\u001b[39m \u001b[38;5;241m/\u001b[39m \u001b[38;5;241m3\u001b[39m) \u001b[38;5;66;03m#adjust the number according to the result\u001b[39;00m\n\u001b[0;32m      2\u001b[0m serialInst\u001b[38;5;241m.\u001b[39mwrite((\u001b[38;5;124m'\u001b[39m\u001b[38;5;124mX\u001b[39m\u001b[38;5;124m'\u001b[39m \u001b[38;5;241m+\u001b[39m displacement)\u001b[38;5;241m.\u001b[39mencode(\u001b[38;5;124m'\u001b[39m\u001b[38;5;124mutf-8\u001b[39m\u001b[38;5;124m'\u001b[39m))\n",
      "\u001b[1;31mValueError\u001b[0m: invalid literal for int() with base 10: ''"
     ]
    }
   ],
   "source": [
    "displacement = str(int(input(\"X axis Distance (mm)\")) * 2 / 3) #adjust the number according to the result\n",
    "serialInst.write(('X' + displacement).encode('utf-8'))"
   ]
  },
  {
   "cell_type": "markdown",
   "metadata": {},
   "source": [
    "### Y-axis (Enter arbitrary distance [mm])"
   ]
  },
  {
   "cell_type": "code",
   "execution_count": null,
   "metadata": {},
   "outputs": [
    {
     "data": {
      "text/plain": [
       "5"
      ]
     },
     "execution_count": 23,
     "metadata": {},
     "output_type": "execute_result"
    }
   ],
   "source": [
    "displacement = str(int(input(\"Y axis Distance (mm)\")) * 2 / 3) #adjust the number according to the result\n",
    "serialInst.write(('Y' + displacement).encode('utf-8'))"
   ]
  },
  {
   "cell_type": "markdown",
   "metadata": {},
   "source": [
    "### Z-axis (Enter arbitrary distance [mm])"
   ]
  },
  {
   "cell_type": "code",
   "execution_count": null,
   "metadata": {},
   "outputs": [
    {
     "data": {
      "text/plain": [
       "18"
      ]
     },
     "execution_count": 14,
     "metadata": {},
     "output_type": "execute_result"
    }
   ],
   "source": [
    "displacement = str(int(input(\"X axis Distance (mm)\")) * 2 / 3) #adjust the number according to the result\n",
    "serialInst.write(('Z' + displacement).encode('utf-8'))"
   ]
  },
  {
   "cell_type": "markdown",
   "metadata": {},
   "source": [
    "## Measurement"
   ]
  },
  {
   "cell_type": "markdown",
   "metadata": {},
   "source": [
    "### DC power supply"
   ]
  },
  {
   "cell_type": "code",
   "execution_count": null,
   "metadata": {},
   "outputs": [],
   "source": [
    "#DCDC converter input active voltage\n",
    "out_put_on(rnd,1,5,0.1) # channel 1, 5 V, 0.1 A"
   ]
  },
  {
   "cell_type": "markdown",
   "metadata": {},
   "source": [
    "### Stepping motor move"
   ]
  },
  {
   "cell_type": "code",
   "execution_count": 8,
   "metadata": {},
   "outputs": [
    {
     "name": "stdout",
     "output_type": "stream",
     "text": [
      "Sent command: $KE!\n",
      "Response: #S000500D9015100420011!#UFFFF18051F10192200D9018005!#S000300D9015100420011!#S000500D9015100420011!#UFFFF18051F10192300D9018005!#S000500D9015100420011!#UFFFF18051F10192400D9018005!#S000500D9015100420011!#S000500D9015100420011!#ok!#S00C500D9000040020001!\n",
      "Sent command: $KE!\n",
      "Response: #UFFFF18051F10192600D9018005!#S00C500D9001000020001!#S000500D9015100420011!#UFFFF18051F10192700D9018005!#S000500D9015100420011!#S000500D9015100420011!#ok!#S00C600D9000040020001!\n",
      "Sent command: $KE!\n",
      "Response: #UFFFF18051F10192900D8018003!#S00C600D9001000020001!#S000300D8015100420011!#UFFFF18051F10192A00D8018005!#S000500D8015100420011!#S000500D8015100420011!#ok!#S00C700D8000040020001!\n",
      "Sent command: $KE!\n",
      "Response: #UFFFF18051F10192C00D8018005!#S00C700D8001000020001!#S000500D8015100420011!#UFFFF18051F10192D00D8018005!#S000500D8015100420011!#S000500D8015100420011!#S000500D8015100420011!#ok!\n",
      "Sent command: $KE!\n",
      "Response: #UFFFF18051F10192E00D8018005!#S000500D8001000000000!#UFFFF18051F10192F00D8018005!#S000500D8015100420011!#S000500D8015100420011!#S000300D9015100420011!#UFFFF18051F10193000D9018003!#S000300D9015100420011!#S000300D9015100420011!#S000500D8015100420011!#UFFFF18051F10193100D8018003!#S000300D8015100420011!#S000300D8015100420011!\n",
      "Retry 1/5 for command: $KE!\n",
      "Sent command: $KE!\n",
      "Response: #ok!\n",
      "Sent command: $KE!\n",
      "Response: #UFFFF18051F10193200D8018005!#S000300D8001000000000!#UFFFF18051F10193300D8018005!#S000500D8015100420011!#S000500D8015100420011!#S000500D8015100420011!#UFFFF18051F10193400D8018005!#S000500D8015100420011!#S000500D8015100420011!#ok!\n",
      "Sent command: $KE!\n",
      "Response: #UFFFF18051F10193500D8018005!#S000500D8001000000000!#UFFFF18051F10193600D8018005!#S000500D8015100420011!#S000500D8015100420011!#S000300D8015100420011!#UFFFF18051F10193700D8018003!#S000300D8015100420011!#S000300D8015100420011!#ok!\n",
      "Sent command: $KE!\n",
      "Response: #UFFFF18051F10193800D8018005!#S000300D8001000000000!#UFFFF18051F10193900D8018005!#S000500D8015100420011!#S000500D8015100420011!#UFFFF18051F10193A00D8018005!#S000300D8015100420011!#S000500D8015100420011!#ok!\n",
      "Sent command: $KE!\n",
      "Response: #UFFFF18051F10193B00D8018003!#S000500D8001000000000!#UFFFF18051F101A0000D8018003!#S000300D8015100420011!#S000300D8015100420011!#UFFFF18051F101A0100D8018003!#S000300D8015100420011!#S000300D8015100420011!#ok!\n",
      "Sent command: $KE!\n",
      "Response: #UFFFF18051F101A0200D8018003!#S000300D8001000000000!#UFFFF18051F101A0300D8018003!#S000300D8015100420011!#S000300D8015100420011!#UFFFF18051F101A0400D8018005!#S000500D8015100420011!#S000500D8015100420011!#ok!\n",
      "Sent command: $KE!\n",
      "Response: #UFFFF18051F101A0500D9018005!#S000500D8001000000000!#UFFFF18051F101A0600D9018005!#S000500D9015100420011!#S000500D9015100420011!#UFFFF18051F101A0700D9018005!#S000500D9015100420011!#S000500D9015100420011!#S000300D8015100420011!#ok!\n",
      "Sent command: $KE!\n",
      "Response: #UFFFF18051F101A0800D8018003!#S000300D8001000000000!#UFFFF18051F101A0900D8018003!#S000300D8015100420011!#S000300D8015100420011!#S000300D8015100420011!#UFFFF18051F101A0A00D8018005!#S000500D8015100420011!#S000500D8015100420011!#S000300D8015100420011!#ok!\n",
      "Sent command: $KE!\n",
      "Response: #UFFFF18051F101A0B00D8018005!#S000500D8001000000000!#UFFFF18051F101A0C00D8018005!#S000500D8015100420011!#S000500D8015100420011!#S000500D8015100420011!#UFFFF18051F101A0D00D8018005!#S000500D8015100420011!#S000500D8015100420011!#S000300D8015100420011!#ok!\n",
      "Sent command: $KE!\n",
      "Response: #UFFFF18051F101A0F00D8018005!#S000300D8001000000000!#S000500D8015100420011!#S000300D8015100420011!#UFFFF18051F101A1000D8018005!#S000500D8015100420011!#S000500D8015100420011!#ok!\n",
      "Sent command: $KE!\n",
      "Response: #UFFFF18051F101A1100D8018003!#S000300D8001000000000!#UFFFF18051F101A1200D8018003!#S000300D8015100420011!#S000300D8015100420011!#S000300D8015100420011!#UFFFF18051F101A1300D9018003!#S000300D9015100420011!#ok!\n",
      "Sent command: $KE!\n",
      "Response: #UFFFF18051F101A1400D8018005!#S000300D9001000000000!#UFFFF18051F101A1500D9018005!#S000500D9015100420011!#S000500D9015100420011!#UFFFF18051F101A1600D8018003!#S000300D8015100420011!#S000300D9015100420011!#ok!\n",
      "Sent command: $KE!\n",
      "Response: #UFFFF18051F101A1700D8018003!#S000300D9001000000000!#UFFFF18051F101A1800D9018003!#S000300D9015100420011!#S000300D8015100420011!#UFFFF18051F101A1900D9018003!#S000300D8015100420011!#S000300D8015100420011!#ok!\n",
      "Sent command: $KE!\n",
      "Response: #UFFFF18051F101A1A00D8018003!#S000300D8001000000000!#UFFFF18051F101A1B00D8018003!#S000300D8015100420011!#S000300D8015100420011!#UFFFF18051F101A1C00D8018003!#S000300D8015100420011!#S000300D8015100420011!#ok!\n",
      "Sent command: $KE!\n",
      "Response: #UFFFF18051F101A1D00D9018005!#S000300D8001000000000!#UFFFF18051F101A1E00D9018003!#S000500D9015100420011!#S000300D9015100420011!#UFFFF18051F101A1F00D9018003!#S000300D9015100420011!#S000300D9015100420011!#S000300D9015100420011!#ok!\n",
      "Sent command: $KE!\n",
      "Response: #UFFFF18051F101A2000D9018003!#S000300D9001000000000!#ok!\n",
      "Data saved to CSV\n",
      "Program finished and serial port closed.\n"
     ]
    }
   ],
   "source": [
    "import os\n",
    "import pandas as pd\n",
    "import time\n",
    "import serial.tools.list_ports\n",
    "from datetime import datetime\n",
    "\n",
    "# Destination folder and file path\n",
    "folder_path = \"C:\\\\Users\\\\kary\\\\Documents\\\\9_data\\\\Electromagnet\\\\\"\n",
    "file_path = os.path.join(folder_path, \"data.csv\")\n",
    "\n",
    "# mesh settings\n",
    "x_mesh_size = 15  # mm\n",
    "y_mesh_size = 15 # mm\n",
    "resolution = 5  # mm\n",
    "x_num_points = int(x_mesh_size / resolution + 1)\n",
    "y_num_points = int(y_mesh_size / resolution + 1)\n",
    "\n",
    "# initialize data frame\n",
    "data = []\n",
    "\n",
    "def move_motor(axis, displacement):\n",
    "    command = axis + str(displacement)\n",
    "    serialInst.write(command.encode('utf-8'))\n",
    "    time.sleep(1)  # Standby time for motor to operate\n",
    "\n",
    "def run_mesh_movement():\n",
    "    current_x = 0.0\n",
    "    current_y = 0.0\n",
    "        \n",
    "    for y in range(y_num_points):\n",
    "        for x in range(x_num_points):\n",
    "            target_y = y * resolution\n",
    "            target_x = x * resolution\n",
    "\n",
    "            # Calculate relative position on Y axis\n",
    "            if target_y != current_y:\n",
    "                move_motor('Y', target_y - current_y)\n",
    "                current_y = target_y\n",
    "            \n",
    "            # Calculate relative position on X axis\n",
    "            if target_x != current_x:\n",
    "                move_motor('X', target_x - current_x)\n",
    "                current_x = target_x\n",
    "\n",
    "            time.sleep(1)  # wait for object to reach position\n",
    "            \n",
    "            # Read data from serial port\n",
    "            data.append([datetime.now().strftime(\"%Y-%m-%d %H:%M:%S.%f\")[:-3], time.perf_counter(), current_x, current_y])\n",
    "\n",
    "            # Read magnetic flux\n",
    "            if not send_command_with_ok_check(\"$KE!\"):\n",
    "                print(\"Failed to send measurement command\")\n",
    "\n",
    "        # Reset the X-axis at the end of a row before moving to the next row\n",
    "        if y != y_num_points - 1:\n",
    "            move_motor('X', -current_x)\n",
    "            time.sleep(1)\n",
    "            # Read data from serial port\n",
    "            data.append([datetime.now().strftime(\"%Y-%m-%d %H:%M:%S.%f\")[:-3], time.perf_counter(), 0, current_y])\n",
    "            current_x = 0.0\n",
    "\n",
    "        # Reading magnetic flux\n",
    "        if not send_command_with_ok_check(\"$KE!\"):\n",
    "            print(\"Failed to send measurement command\")\n",
    "\n",
    "    # Convert and save to DataFrame\n",
    "    df = pd.DataFrame(data, columns=[\"Timestamp\", \"High_Precision_Timestamp\", \"X_Position\", \"Y_Position\"])\n",
    "    df.to_csv(file_path, index=False)\n",
    "    print(\"Data saved to CSV\")\n",
    "\n",
    "# Perform mesh movement directly\n",
    "run_mesh_movement()\n",
    "serialInst.close()\n",
    "print(\"Program finished and serial port closed.\")\n"
   ]
  },
  {
   "cell_type": "markdown",
   "metadata": {},
   "source": [
    "### Voltage OFF"
   ]
  },
  {
   "cell_type": "code",
   "execution_count": null,
   "metadata": {},
   "outputs": [],
   "source": [
    "# Power off all\n",
    "out_put_off_all(rnd)"
   ]
  },
  {
   "cell_type": "markdown",
   "metadata": {},
   "source": [
    "## Data Save"
   ]
  },
  {
   "cell_type": "code",
   "execution_count": 9,
   "metadata": {},
   "outputs": [
    {
     "name": "stdout",
     "output_type": "stream",
     "text": [
      "Sent command: $A!\n",
      "Data saved to CSV\n"
     ]
    }
   ],
   "source": [
    "import csv\n",
    "import os\n",
    "import pandas as pd\n",
    "from datetime import datetime\n",
    "\n",
    "# Destination folder and file path\n",
    "folder_path = \"C:\\\\Users\\\\kary\\\\Documents\\\\9_data\\\\Electromagnet\\\\\"\n",
    "file_path = os.path.join(folder_path, \"data.csv\")\n",
    "\n",
    "# Initialize CSV file and add columns\n",
    "def initialize_csv():\n",
    "    if not os.path.exists(file_path):\n",
    "        with open(file_path, mode='w', newline='') as file:\n",
    "            writer = csv.writer(file)\n",
    "            writer.writerow([\"Timestamp\", \"High_Precision_Timestamp\", \"X_Position\", \"Y_Position\", \"Magnetic_Flux\", \"Temperature\", \"Gauss_Value\"])\n",
    "    else:\n",
    "        df = pd.read_csv(file_path, dtype={\"Magnetic_Flux\": str})\n",
    "        for column in [\"Magnetic_Flux\", \"Temperature\", \"Gauss_Value\"]:\n",
    "            if column not in df.columns:\n",
    "                df[column] = ''\n",
    "        df.to_csv(file_path, index=False)\n",
    "\n",
    "# Parse response string\n",
    "def parse_response(response):\n",
    "    try:\n",
    "        temperature = int(response[18:21], 16) / 10 if response[22:23] == '1' else int(response[18:21], 16)\n",
    "        gauss_value = int(response[24:27], 16)\n",
    "        if gauss_value & 0x8000:\n",
    "            gauss_value -= 0x10000\n",
    "        return temperature, gauss_value / 10\n",
    "    except Exception as e:\n",
    "        print(f\"Error parsing response: {response}, error: {e}\")\n",
    "        return None, None\n",
    "\n",
    "# Save magnetic flux data to CSV\n",
    "def save_magnetic_flux_to_csv(response_list):\n",
    "    df = pd.read_csv(file_path, dtype={\"Magnetic_Flux\": str})\n",
    "    for i, response in enumerate(response_list):\n",
    "        if i >= len(df):\n",
    "            break\n",
    "        temperature, gauss_value = parse_response(response)\n",
    "        df.at[i, 'Magnetic_Flux'] = response\n",
    "        df.at[i, 'Temperature'] = temperature\n",
    "        df.at[i, 'Gauss_Value'] = gauss_value\n",
    "    df.to_csv(file_path, index=False)\n",
    "\n",
    "# Initialization and adding columns\n",
    "initialize_csv()\n",
    "\n",
    "# Send data retrieval command and get response\n",
    "data_response = send_receive_command(\"$A!\")\n",
    "if data_response:\n",
    "    response_list = [entry for entry in data_response.decode('latin-1').split('#') if entry.startswith('D') and entry.endswith('!')]\n",
    "    save_magnetic_flux_to_csv(response_list)\n",
    "    print(\"Data saved to CSV\")\n",
    "else:\n",
    "    print(\"No data received\")\n"
   ]
  },
  {
   "cell_type": "code",
   "execution_count": null,
   "metadata": {},
   "outputs": [],
   "source": []
  },
  {
   "cell_type": "code",
   "execution_count": null,
   "metadata": {},
   "outputs": [],
   "source": []
  }
 ],
 "metadata": {
  "kernelspec": {
   "display_name": "Python 3",
   "language": "python",
   "name": "python3"
  },
  "language_info": {
   "codemirror_mode": {
    "name": "ipython",
    "version": 3
   },
   "file_extension": ".py",
   "mimetype": "text/x-python",
   "name": "python",
   "nbconvert_exporter": "python",
   "pygments_lexer": "ipython3",
   "version": "3.11.9"
  }
 },
 "nbformat": 4,
 "nbformat_minor": 2
}
