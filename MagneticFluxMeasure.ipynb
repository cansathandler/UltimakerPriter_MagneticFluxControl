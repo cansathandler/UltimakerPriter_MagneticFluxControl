{
 "cells": [
  {
   "cell_type": "markdown",
   "metadata": {},
   "source": [
    "## Program Start"
   ]
  },
  {
   "cell_type": "code",
   "execution_count": 1,
   "metadata": {},
   "outputs": [
    {
     "name": "stdout",
     "output_type": "stream",
     "text": [
      "Starting the external program...\n",
      "\"Program Started\"\n",
      "\n"
     ]
    }
   ],
   "source": [
    "import ipywidgets as widgets\n",
    "from IPython.display import display, clear_output\n",
    "import subprocess\n",
    "\n",
    "# Function to run the external program\n",
    "def run_program():\n",
    "    # Here you can specify the program you want to run\n",
    "    # Replace \"your_program.exe\" with the actual program you want to run\n",
    "    # For example, to run a Python script: [\"python\", \"your_script.py\"]\n",
    "    try:\n",
    "        result = subprocess.run([\"echo\", \"Program Started\"], capture_output=True, text=True, shell=True)\n",
    "        print(result.stdout)\n",
    "        # Replace the above line with the actual command, e.g.:\n",
    "        # result = subprocess.run([\"python\", \"your_script.py\"], capture_output=True, text=True, shell=True)\n",
    "        # print(result.stdout)\n",
    "    except FileNotFoundError as e:\n",
    "        print(f\"File not found: {e}\")\n",
    "    except Exception as e:\n",
    "        print(f\"An error occurred: {e}\")\n",
    "\n",
    "# Function to handle the button click event\n",
    "def on_click(event):\n",
    "    clear_output(wait=True)\n",
    "    print(\"Starting the external program...\")\n",
    "    run_program()\n",
    "\n",
    "# Create an invisible button\n",
    "start_button = widgets.Button(description=\"Click here to start the program\", layout=widgets.Layout(width='100%', height='100%'))\n",
    "start_button.style.button_color = 'lightblue'\n",
    "\n",
    "# Set the button click event\n",
    "start_button.on_click(on_click)\n",
    "\n",
    "# Display the button\n",
    "display(start_button)\n"
   ]
  },
  {
   "cell_type": "code",
   "execution_count": null,
   "metadata": {},
   "outputs": [],
   "source": []
  }
 ],
 "metadata": {
  "kernelspec": {
   "display_name": "Python 3",
   "language": "python",
   "name": "python3"
  },
  "language_info": {
   "codemirror_mode": {
    "name": "ipython",
    "version": 3
   },
   "file_extension": ".py",
   "mimetype": "text/x-python",
   "name": "python",
   "nbconvert_exporter": "python",
   "pygments_lexer": "ipython3",
   "version": "3.11.9"
  }
 },
 "nbformat": 4,
 "nbformat_minor": 2
}
