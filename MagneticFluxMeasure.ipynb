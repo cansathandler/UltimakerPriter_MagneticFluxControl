{
 "cells": [
  {
   "cell_type": "markdown",
   "metadata": {},
   "source": [
    "## Settings"
   ]
  },
  {
   "cell_type": "markdown",
   "metadata": {},
   "source": [
    "### Port number, Saving"
   ]
  },
  {
   "cell_type": "code",
   "execution_count": 16,
   "metadata": {},
   "outputs": [],
   "source": [
    "import os\n",
    "import pandas as pd\n",
    "import time\n",
    "from datetime import datetime\n",
    "import pyvisa\n",
    "import serial\n",
    "import serial.tools.list_ports\n",
    "import csv\n",
    "\n",
    "## Port number of DC Power Supply\n",
    "Port_rnd = 9\n",
    "\n",
    "## Port name of Teensy controlling Ultimaker\n",
    "Port_Ultimaker_Teensy = \"COM5\"\n",
    "\n",
    "## Port name of Teensy reading thermo couple\n",
    "Port_thermo_Teensy = \"COM7\"\n",
    "\n",
    "# Destination folder and file path\n",
    "folder_path = \"C:\\\\Users\\\\kary\\\\Documents\\\\9_data\\\\Electromagnet\\\\\"\n",
    "file_path = os.path.join(folder_path, \"data.csv\")\n",
    "\n",
    "# mesh settings\n",
    "x_mesh_size = 1  # mm\n",
    "y_mesh_size = 1 # mm\n",
    "resolution = 0.5  # mm"
   ]
  },
  {
   "cell_type": "markdown",
   "metadata": {},
   "source": [
    "### DC power supply"
   ]
  },
  {
   "cell_type": "code",
   "execution_count": 2,
   "metadata": {},
   "outputs": [
    {
     "data": {
      "text/plain": [
       "('ASRL5::INSTR', 'ASRL6::INSTR', 'ASRL7::INSTR', 'ASRL9::INSTR')"
      ]
     },
     "execution_count": 2,
     "metadata": {},
     "output_type": "execute_result"
    }
   ],
   "source": [
    "\n",
    "#Create Resource manager instance for DC power supply\n",
    "rm= pyvisa.ResourceManager()\n",
    "#Check the VISA device\n",
    "rm.list_resources()"
   ]
  },
  {
   "cell_type": "code",
   "execution_count": 3,
   "metadata": {},
   "outputs": [
    {
     "name": "stdout",
     "output_type": "stream",
     "text": [
      "RND 320-KD3305P V4.2 SN:09924475\n",
      "\n"
     ]
    }
   ],
   "source": [
    "# Start the communication by VISA identifying resource name\n",
    "rnd = rm.open_resource('ASRL' + str(Port_rnd) + '::INSTR')\n",
    "\n",
    "#Checking the machine name\n",
    "print(rnd.query('*IDN?'))"
   ]
  },
  {
   "cell_type": "markdown",
   "metadata": {},
   "source": [
    "#### Definition of Stabilized Power Supply Operating Functions"
   ]
  },
  {
   "cell_type": "code",
   "execution_count": 4,
   "metadata": {},
   "outputs": [],
   "source": [
    "#Specify the communication instance, channel, voltage and current and turn on the output\n",
    "def out_put_on(sps,ch,vol,cur):\n",
    "    sps.write(\"VSET\"+str(ch)+\":\"+str(vol)) #set ch1 output current 0.01V\n",
    "    sps.write(\"ISET\"+str(ch)+\":\"+str(cur)) #set ch1 output current 0.01A\n",
    "    sps.write(\"OUT1\")\n",
    "\n",
    "def out_put_on_only_V(sps,ch,vol):\n",
    "    sps.write(\"VSET\"+str(ch)+\":\"+str(vol)) #set ch1 output current 0.01V\n",
    "    sps.write(\"ISET\"+str(ch)+\":0\") #set ch1 output current 0A\n",
    "    sps.write(\"OUT1\")\n",
    "\n",
    "#Turn off output by specifying communication instance and channel number\n",
    "def out_put_off(sps,ch):\n",
    "    sps.write(\"VSET\"+str(ch)+\":0\") \n",
    "    sps.write(\"ISET\"+str(ch)+\":0\") \n",
    "    sps.write(\"OUT1\")\n",
    "\n",
    "def out_put_off_all(sps):\n",
    "    sps.write(\"VSET1:0\") \n",
    "    sps.write(\"ISET1:0\") \n",
    "    sps.write(\"VSET2:0\") \n",
    "    sps.write(\"ISET2:0\") \n",
    "    sps.write(\"OUT1\")"
   ]
  },
  {
   "cell_type": "markdown",
   "metadata": {},
   "source": [
    "### Magnet meter"
   ]
  },
  {
   "cell_type": "code",
   "execution_count": 5,
   "metadata": {},
   "outputs": [
    {
     "name": "stdout",
     "output_type": "stream",
     "text": [
      "Sent command: $C!\n",
      "Response: #ok!#S000100E6011510420011!#UFFFF1806060A1D2400E6010001!#S000300E6011510420011!\n",
      "Sent command: $Y000001!\n",
      "Response: #ok!#UFFFF1806060A1D2500E6010001!#S000100E6011510420011!\n"
     ]
    }
   ],
   "source": [
    "\n",
    "# Find and configure the serial port\n",
    "def configure_serial():\n",
    "    ports = serial.tools.list_ports.comports()\n",
    "    for port in ports:\n",
    "        if \"Prolific PL2303GC USB Serial COM Port\" in port.description:\n",
    "            return serial.Serial(\n",
    "                port.device,\n",
    "                baudrate=9600,\n",
    "                parity=serial.PARITY_NONE,\n",
    "                stopbits=serial.STOPBITS_ONE,\n",
    "                bytesize=serial.EIGHTBITS,\n",
    "                timeout=1\n",
    "            )\n",
    "    raise IOError(\"Prolific PL2303GC USB Serial COM Port not found\")\n",
    "\n",
    "ser = configure_serial()\n",
    "\n",
    "# Function to send command and check if response is #ok!\n",
    "def send_command_with_ok_check(command, retries=5):\n",
    "    for attempt in range(retries):\n",
    "        ser.write((command + '\\r\\n').encode())\n",
    "        print(f\"Sent command: {command}\")  # debug\n",
    "        time.sleep(1)\n",
    "        response = ser.read_all()\n",
    "        print(f\"Response: {response.decode('latin-1')}\")  # debug\n",
    "        if b'#ok!' in response:\n",
    "            return True\n",
    "        print(f\"Retry {attempt + 1}/{retries} for command: {command}\")\n",
    "    return False\n",
    "\n",
    "def send_receive_command(command):\n",
    "    try:\n",
    "        ser.write((command + '\\r\\n').encode())\n",
    "        print(f\"Sent command: {command}\")  # debug\n",
    "        time.sleep(1)  # Increase response wait time\n",
    "        response = ser.read_all()  # read all responses\n",
    "        return response\n",
    "    except serial.SerialException as e:\n",
    "        print(f\"Serial exception: {e}\")\n",
    "        return None\n",
    "    except Exception as e:\n",
    "        print(f\"Unexpected error: {e}\")\n",
    "        return None\n",
    "\n",
    "# send data clear\n",
    "if not send_command_with_ok_check(\"$C!\"):\n",
    "    print(\"Failed to clear data\")\n",
    "\n",
    "# setting reading interval\n",
    "if not send_command_with_ok_check(\"$Y000001!\"):\n",
    "    print(\"Failed to set record interval\")\n"
   ]
  },
  {
   "cell_type": "markdown",
   "metadata": {},
   "source": [
    "### Control board of Ultimaker (Teensy4.0)"
   ]
  },
  {
   "cell_type": "code",
   "execution_count": 6,
   "metadata": {},
   "outputs": [
    {
     "name": "stdout",
     "output_type": "stream",
     "text": [
      "Serial port opened successfully.\n"
     ]
    }
   ],
   "source": [
    "# Portrate setting\n",
    "baudrate_ult = 115200\n",
    "\n",
    "if Port_Ultimaker_Teensy is None:\n",
    "    print(\"Selected COM port not found.\")\n",
    "else:\n",
    "    # Make serial port instance\n",
    "    try:\n",
    "        ult_serialInst = serial.Serial(Port_Ultimaker_Teensy, baudrate_ult, timeout=1) \n",
    "        print(\"Serial port opened successfully.\")\n",
    "    except serial.SerialException as e:\n",
    "        print(f\"Error opening serial port: {e}\")\n",
    "        exit()"
   ]
  },
  {
   "cell_type": "markdown",
   "metadata": {},
   "source": [
    "### Reading Board of Thermo couple (Teensy4.0)"
   ]
  },
  {
   "cell_type": "code",
   "execution_count": 7,
   "metadata": {},
   "outputs": [
    {
     "name": "stdout",
     "output_type": "stream",
     "text": [
      "Serial port opened successfully.\n"
     ]
    }
   ],
   "source": [
    "# Portrate setting\n",
    "baudrate_the = 115200\n",
    "\n",
    "if Port_thermo_Teensy is None:\n",
    "    print(\"Selected COM port not found.\")\n",
    "else:\n",
    "    # Make serial port instance\n",
    "    try:\n",
    "        thermo_seriallInst = serial.Serial(Port_thermo_Teensy, baudrate_the, timeout=1) \n",
    "        print(\"Serial port opened successfully.\")\n",
    "    except serial.SerialException as e:\n",
    "        print(f\"Error opening serial port: {e}\")\n",
    "        exit()"
   ]
  },
  {
   "cell_type": "markdown",
   "metadata": {},
   "source": [
    "## Adjustment of position"
   ]
  },
  {
   "cell_type": "markdown",
   "metadata": {},
   "source": [
    "### Home (Please not use: Limit Switch is not working now)"
   ]
  },
  {
   "cell_type": "code",
   "execution_count": 8,
   "metadata": {},
   "outputs": [],
   "source": [
    "#ult_serialInst.write(('H').encode('utf-8'))"
   ]
  },
  {
   "cell_type": "markdown",
   "metadata": {},
   "source": [
    "### X-axis (Enter arbitrary distance [mm])"
   ]
  },
  {
   "cell_type": "code",
   "execution_count": 9,
   "metadata": {},
   "outputs": [
    {
     "data": {
      "text/plain": [
       "20"
      ]
     },
     "execution_count": 9,
     "metadata": {},
     "output_type": "execute_result"
    }
   ],
   "source": [
    "displacement = str(int(input(\"X axis Distance (mm)\")) * 2 / 3) #adjust the number according to the result\n",
    "ult_serialInst.write(('X' + displacement).encode('utf-8'))"
   ]
  },
  {
   "cell_type": "markdown",
   "metadata": {},
   "source": [
    "### Y-axis (Enter arbitrary distance [mm])"
   ]
  },
  {
   "cell_type": "code",
   "execution_count": 10,
   "metadata": {},
   "outputs": [
    {
     "data": {
      "text/plain": [
       "19"
      ]
     },
     "execution_count": 10,
     "metadata": {},
     "output_type": "execute_result"
    }
   ],
   "source": [
    "displacement = str(int(input(\"Y axis Distance (mm)\")) * 2 / 3) #adjust the number according to the result\n",
    "ult_serialInst.write(('Y' + displacement).encode('utf-8'))"
   ]
  },
  {
   "cell_type": "markdown",
   "metadata": {},
   "source": [
    "### Z-axis (Enter arbitrary distance [mm])"
   ]
  },
  {
   "cell_type": "code",
   "execution_count": 11,
   "metadata": {},
   "outputs": [
    {
     "data": {
      "text/plain": [
       "19"
      ]
     },
     "execution_count": 11,
     "metadata": {},
     "output_type": "execute_result"
    }
   ],
   "source": [
    "displacement = str(int(input(\"X axis Distance (mm)\")) * 2 / 3) #adjust the number according to the result\n",
    "ult_serialInst.write(('Z' + displacement).encode('utf-8'))"
   ]
  },
  {
   "cell_type": "markdown",
   "metadata": {},
   "source": [
    "## Measurement"
   ]
  },
  {
   "cell_type": "markdown",
   "metadata": {},
   "source": [
    "### DC power supply"
   ]
  },
  {
   "cell_type": "code",
   "execution_count": 14,
   "metadata": {},
   "outputs": [],
   "source": [
    "#DCDC converter input active voltage\n",
    "out_put_on(rnd,1,5,0.1) # channel 1, 5 V, 0.1 A"
   ]
  },
  {
   "cell_type": "markdown",
   "metadata": {},
   "source": [
    "### Stepping motor move"
   ]
  },
  {
   "cell_type": "code",
   "execution_count": 18,
   "metadata": {},
   "outputs": [
    {
     "name": "stdout",
     "output_type": "stream",
     "text": [
      "Sent command: $KE!\n",
      "Response: #S000100E6011510420011!#UFFFF1806060A1D2600E6010003!#S000300E6011510420011!#S000300E6011510420011!#UFFFF1806060A1D2700E6010003!#S000100E6011510420011!#S000300E6011510420011!#UFFFF1806060A1D2800E6010003!#S000300E6011510420011!#S000300E6011510420011!#UFFFF1806060A1D2900E6010003!#S000300E6011510420011!#S000300E6011510420011!#UFFFF1806060A1D2A00E6010003!#S000300E6011510420011!#S000100E6011510420011!#UFFFF1806060A1D2B00E6010003!#S000300E6011510420011!#S000300E6011510420011!#UFFFF1806060A1D2C00E6010003!#S000300E6011510420011!#S000300E6011510420011!#S000300E6011510420011!#UFFFF1806060A1D2D00E6010001!#S000100E6011510420011!#S000100E6011510420011!#S000100E6011510420011!#UFFFF1806060A1D2E00E6010001!#S000100E6011510420011!#S000100E6011510420011!#S000100E6011510420011!#UFFFF1806060A1D2F00E6010003!#S000300E6011510420011!#S000300E6011510420011!#S000100E6011510420011!#UFFFF1806060A1D3000E6010001!#S000100E6011510420011!#S000100E6011510420011!#S000300E6011510420011!#UFFFF1806060A1D3100E6010003!#S000300E6011510420011!#S000300E6011510420011!#S000300E6011510420011!#UFFFF1806060A1D3200E6010003!#S000300E6011510420011!#S000300E6011510420011!#S000300E6011510420011!#UFFFF1806060A1D3300E6010003!#S000300E6011510420011!#S000300E6011510420011!#S000300E6011510420011!#UFFFF1806060A1D3400E6010001!#S000100E6011510420011!#S000100E6011510420011!#S000100E6011510420011!#UFFFF1806060A1D3500E6010001!#S000100E6011510420011!#S000100E6011510420011!#S000300E6011510420011!#UFFFF1806060A1D3600E6010001!#S000100E6011510420011!#S000100E6011510420011!#S000300E6011510420011!#UFFFF1806060A1D3700E6010003!#S000300E6011510420011!#S000300E6011510420011!#S000300E6011510420011!#UFFFF1806060A1D3800E6010003!#S000300E6011510420011!#S000300E6011510420011!#S000300E6011510420011!#UFFFF1806060A1D3900E6010003!#S000300E6011510420011!#S000300E6011510420011!#S000300E6011510420011!#UFFFF1806060A1D3A00E6010003!#S000300E6011510420011!#S000300E6011510420011!#S000300E6011510420011!#UFFFF1806060A1D3B00E6010003!#S000300E6011510420011!#S000300E6011510420011!#UFFFF1806060A1E0000E6010003!#S000100E6011510420011!#S000300E6011510420011!#UFFFF1806060A1E0100E6010003!#S000300E6011510420011!#UFFFF1806060A1E0200E6010001!#S000300E6011510420011!#S000100E6011510420011!#UFFFF1806060A1E0300E6010001!#S000100E6011510420011!#S000100E6011510420011!#UFFFF1806060A1E0400E6010003!#S000300E6011510420011!#S000300E6011510420011!#UFFFF1806060A1E0500E6010003!#S000100E6011510420011!#S000300E6011510420011!#UFFFF1806060A1E0600E6010003!#S000100E6011510420011!#S000300E6011510420011!#UFFFF1806060A1E0700E6010001!#S000300E6011510420011!#S000100E6011510420011!#UFFFF1806060A1E0800E6010001!#S000300E6011510420011!#S000100E6011510420011!#UFFFF1806060A1E0900E6010003!#S000300E6011510420011!#S000300E6011510420011!#UFFFF1806060A1E0A00E6010003!#S000300E6011510420011!#S000300E6011510420011!#UFFFF1806060A1E0B00E6010003!#S000300E6011510420011!#S000300E6011510420011!#UFFFF1806060A1E0C00E6010003!#S000300E6011510420011!#S000300E6011510420011!#UFFFF1806060A1E0D00E6010003!#S000300E6011510420011!#S000300E6011510420011!#S000100E6011510420011!#UFFFF1806060A1E0E00E6010001!#S000100E6011510420011!#S000100E6011510420011!#S000100E6011510420011!#UFFFF1806060A1E0F00E6010003!#S000300E6011510420011!#S000300E6011510420011!#S000300E6011510420011!#UFFFF1806060A1E1000E6010001!#S000100E6011510420011!#S000100E6011510420011!#S000100E6011510420011!#UFFFF1806060A1E1100E6010001!#S000100E6011510420011!#S000100E6011510420011!#S000100E6011510420011!#UFFFF1806060A1E1200E6010001!#S000100E6011510420011!#S000100E6011510420011!#S000300E6011510420011!#UFFFF1806060A1E1300E6010001!#S000100E6011510420011!#S000100E6011510420011!#S000300E6011510420011!#UFFFF1806060A1E1400E6010001!#S000100E6011510420011!#S000100E6011510420011!#S000100E6011510420011!#UFFFF1806060A1E1500E6010001!#S000100E6011510420011!#S000100E6011510420011!#S000100E6011510420011!#UFFFF1806060A1E1600E6010001!#S000100E6011510420011!#S000100E6011510420011!#S000300E6011510420011!#UFFFF1806060A1E1700E6010000!#S000000E6011510420011!#S000000E6011510420011!#S000100E6011510420011!#UFFFF1806060A1E1800E6010001!#S000100E6011510420\n",
      "Retry 1/5 for command: $KE!\n",
      "Sent command: $KE!\n",
      "Response: #UFFFF1806060A201000E6010003!#S000600E6001000020001!#ok!#S000700E6000040020001!\n",
      "Sent command: $KE!\n",
      "Response: #UFFFF1806060A201100E6010003!#S000700E6001000020001!#UFFFF1806060A201200E6010003!#S000300E6011510420011!#S000300E6011510420011!#S000300E6011510420011!#UFFFF1806060A201300E6010001!#S000200E6011510420011!#S000200E6011510420011!#S000300E6011510420011!#UFFFF1806060A201400E6010001!#S000100E6011510420011!#S000100E6011510420011!#ok!#S000800E6000040020001!\n",
      "Sent command: $KE!\n",
      "Response: #UFFFF1806060A201600E6010003!#S000800E6001000020001!#S000300E6011510420011!#UFFFF1806060A201700E6010003!#S000300E6011510420011!#S000300E6011510420011!#S000300E6011510420011!#UFFFF1806060A201800E6010003!#S000300E6011510420011!#S000300E6011510420011!#S000300E6011510420011!#UFFFF1806060A201900E6010003!#S000300E6011510420011!#S000300E6011510420011!#ok!#S000900E6000040020001!\n",
      "Sent command: $KE!\n",
      "Response: #UFFFF1806060A201B00E6010003!#S000900E6001000020001!#UFFFF1806060A201C00E6010001!#S000300E6011510420011!#S000200E6011510420011!#UFFFF1806060A201D00E6010003!#S000300E6011510420011!#S000300E6011510420011!#UFFFF1806060A201E00E6010003!#S000300E6011510420011!#S000300E6011510420011!#UFFFF1806060A201F00E6010003!#S000100E6011510420011!#ok!#S000A00E6000040020001!\n",
      "Sent command: $KE!\n",
      "Response: #UFFFF1806060A202000E6010003!#S000A00E6001000020001!#UFFFF1806060A202100E6010003!#S000300E6011510420011!#S000300E6011510420011!#UFFFF1806060A202200E6010003!#S000300E6011510420011!#S000300E6011510420011!#UFFFF1806060A202300E6010001!#S000100E6011510420011!#S000100E6011510420011!#UFFFF1806060A202400E6010001!#S000100E6011510420011!#ok!#S000B00E6000040020001!\n",
      "Sent command: $KE!\n",
      "Response: #UFFFF1806060A202600E6010003!#S000B00E6001000020001!#S000300E6011510420011!#S000300E6011510420011!#UFFFF1806060A202700E6010003!#S000300E6011510420011!#S000300E6011510420011!#UFFFF1806060A202800E6010003!#S000300E6011510420011!#S000300E6011510420011!#S000300E6011510420011!#UFFFF1806060A202900E6010003!#S000300E6011510420011!#S000300E6011510420011!#ok!#S000C00E6000040020001!\n",
      "Sent command: $KE!\n",
      "Response: #UFFFF1806060A202B00E6010003!#S000C00E6001000020001!#S000300E6011510420011!#UFFFF1806060A202C00E6010001!#S000200E6011510420011!#S000200E6011510420011!#S000100E6011510420011!#UFFFF1806060A202D00E6010001!#S000100E6011510420011!#S000100E6011510420011!#S000100E6011510420011!#UFFFF1806060A202E00E6010003!#S000300E6011510420011!#S000300E6011510420011!#S000100E6011510420011!#ok!#S000D00E6000040020001!\n",
      "Sent command: $KE!\n",
      "Response: #UFFFF1806060A203000E6010001!#S000D00E6001000020001!#S000100E6011510420011!#UFFFF1806060A203100E6010001!#S000100E6011510420011!#S000100E6011510420011!#S000100E6011510420011!#UFFFF1806060A203200E6010003!#S000200E6011510420011!#S000200E6011510420011!#S000300E6011510420011!#UFFFF1806060A203300E6010001!#S000100E6011510420011!#S000100E6011510420011!#S000100E6011510420011!#UFFFF1806060A203400E6010001!#S000100E6011510420011!#S000100E6011510420011!#S000100E6011510420011!#S000300E6011510420011!#UFFFF1806060A203500E6010001!#S000100E6011510420011!\n",
      "Retry 1/5 for command: $KE!\n",
      "Sent command: $KE!\n",
      "Response: #ok!#S000E00E6000040020001!\n",
      "Sent command: $KE!\n",
      "Response: #UFFFF1806060A203600E6010001!#S000E00E6001000020001!#S000100E6011510420011!#UFFFF1806060A203700E6010001!#S000100E6011510420011!#S000100E6011510420011!#UFFFF1806060A203800E6010003!#S000100E6011510420011!#UFFFF1806060A203900E6010003!#S000300E6011510420011!#S000300E6011510420011!#UFFFF1806060A203A00E6010001!#S000100E6011510420011!#ok!#S000F00E6000040020001!\n",
      "Sent command: $KE!\n",
      "Response: #UFFFF1806060A210000E6010003!#S000F00E6001000020001!#S000300E6011510420011!#UFFFF1806060A210100E6010003!#S000300E6011510420011!#S000300E6011510420011!#UFFFF1806060A210200E6010001!#S000300E6011510420011!#S000200E6011510420011!#UFFFF1806060A210300E6010003!#S000100E6011510420011!#S000300E6011510420011!#UFFFF1806060A210400E6010003!#S000300E6011510420011!#S000300E601151\n",
      "Retry 1/5 for command: $KE!\n",
      "Sent command: $KE!\n",
      "Response: 0420011!#UFFFF1806060A210500E6010003!#S000300E6011510420011!#\n",
      "Retry 2/5 for command: $KE!\n",
      "Sent command: $KE!\n",
      "Response: S000300E6011510420011!#UFFFF1806060A210600E6010003!#S000300E6011510420011!#S000300E6011510420011!\n",
      "Retry 3/5 for command: $KE!\n",
      "Sent command: $KE!\n",
      "Response: #ok!#S001000E6000040020001!\n",
      "Sent command: $KE!\n",
      "Response: #UFFFF1806060A210800E6010001!#S001000E6001000020001!#S000100E6011510420011!#UFFFF1806060A210900E6010001!#S000100E6011510420011!#S000100E6011510420011!#S000100E6011510420011!#UFFFF1806060A210A00E6010001!#S000100E6011510420011!#S000100E6011510420011!#S000200E6011510420011!#UFFFF1806060A210B00E6010003!#S000300E6011510420011!#S000300E6011510420011!#S000300E6011510420011!#ok!#S001100E6000040020001!\n",
      "Sent command: $KE!\n",
      "Response: #UFFFF1806060A210D00E6010003!#S001100E6001000020001!#ok!\n",
      "Data saved to CSV\n",
      "Program finished and serial port closed.\n"
     ]
    }
   ],
   "source": [
    "x_num_points = int(x_mesh_size / resolution + 1)\n",
    "y_num_points = int(y_mesh_size / resolution + 1)\n",
    "\n",
    "# initialize data frame\n",
    "data = []\n",
    "\n",
    "def move_motor(axis, displacement):\n",
    "    command = axis + str(displacement)\n",
    "    ult_serialInst.write(command.encode('utf-8'))\n",
    "    time.sleep(1)  # Standby time for motor to operate\n",
    "\n",
    "def thermocouple_read():\n",
    "\n",
    "    thermo_seriallInst.write(\"Reference Temperature\\n\".encode('utf-8'))\n",
    "    time.sleep(0.1)\n",
    "    ref_temp = thermo_seriallInst.readline().decode('utf-8').strip()\n",
    "\n",
    "    thermo_seriallInst.write(\"Probe Temperature\\n\".encode('utf-8'))\n",
    "    time.sleep(0.1)\n",
    "    pro_temp = thermo_seriallInst.readline().decode('utf-8').strip()\n",
    "\n",
    "    return ref_temp, pro_temp\n",
    "\n",
    "def run_mesh_movement():\n",
    "    current_x = 0.0\n",
    "    current_y = 0.0\n",
    "        \n",
    "    for y in range(y_num_points):\n",
    "        for x in range(x_num_points):\n",
    "            target_y = y * resolution\n",
    "            target_x = x * resolution\n",
    "\n",
    "            # Calculate relative position on Y axis\n",
    "            if target_y != current_y:\n",
    "                move_motor('Y', target_y - current_y)\n",
    "                current_y = target_y\n",
    "            \n",
    "            # Calculate relative position on X axis\n",
    "            if target_x != current_x:\n",
    "                move_motor('X', target_x - current_x)\n",
    "                current_x = target_x\n",
    "\n",
    "            time.sleep(1)  # wait for object to reach position\n",
    "            \n",
    "            reference_temp, probe_temp = thermocouple_read()\n",
    "\n",
    "            # Read data from serial port\n",
    "            data.append([datetime.now().strftime(\"%Y-%m-%d %H:%M:%S.%f\")[:-3], time.perf_counter(), current_x, current_y, reference_temp, probe_temp])\n",
    "\n",
    "            # Read magnetic flux\n",
    "            if not send_command_with_ok_check(\"$KE!\"):\n",
    "                print(\"Failed to send measurement command\")\n",
    "\n",
    "        # Reset the X-axis at the end of a row before moving to the next row\n",
    "        if y != y_num_points - 1:\n",
    "            move_motor('X', -current_x)\n",
    "            time.sleep(1)\n",
    "\n",
    "            reference_temp, probe_temp = thermocouple_read()\n",
    "\n",
    "            # Read data from serial port\n",
    "            data.append([datetime.now().strftime(\"%Y-%m-%d %H:%M:%S.%f\")[:-3], time.perf_counter(), 0, current_y, reference_temp, probe_temp])\n",
    "            current_x = 0.0\n",
    "\n",
    "        # Reading magnetic flux\n",
    "        if not send_command_with_ok_check(\"$KE!\"):\n",
    "            print(\"Failed to send measurement command\")\n",
    "\n",
    "    # Convert and save to DataFrame\n",
    "    df = pd.DataFrame(data, columns=[\"Timestamp\", \"High_Precision_Timestamp\", \"X_Position\", \"Y_Position\", \"Reference_Temperature\", \"Probe_Temperature\"])\n",
    "    df.to_csv(file_path, index=False)\n",
    "    print(\"Data saved to CSV\")\n",
    "\n",
    "# Perform mesh movement directly\n",
    "run_mesh_movement()\n",
    "ult_serialInst.close()\n",
    "print(\"Program finished and serial port closed.\")\n"
   ]
  },
  {
   "cell_type": "markdown",
   "metadata": {},
   "source": [
    "### Voltage OFF"
   ]
  },
  {
   "cell_type": "code",
   "execution_count": 19,
   "metadata": {},
   "outputs": [],
   "source": [
    "# Power off all\n",
    "out_put_off_all(rnd)"
   ]
  },
  {
   "cell_type": "markdown",
   "metadata": {},
   "source": [
    "## Data Save"
   ]
  },
  {
   "cell_type": "code",
   "execution_count": 20,
   "metadata": {},
   "outputs": [
    {
     "name": "stdout",
     "output_type": "stream",
     "text": [
      "Sent command: $A!\n",
      "Data saved to CSV\n"
     ]
    }
   ],
   "source": [
    "# Initialize CSV file and add columns\n",
    "def initialize_csv():\n",
    "    if not os.path.exists(file_path):\n",
    "        with open(file_path, mode='w', newline='') as file:\n",
    "            writer = csv.writer(file)\n",
    "            writer.writerow([\"Timestamp\", \"High_Precision_Timestamp\", \"X_Position\", \"Y_Position\", \"Reference_Temperature\", \"Probe_Temperature\", \"Raw_data\", \"Temperature_Gauss_meter\", \"Gauss_Value\"])\n",
    "    else:\n",
    "        df = pd.read_csv(file_path, dtype={\"Raw_data\": str})\n",
    "        for column in [\"Raw_data\", \"Temperature\", \"Gauss_Value\"]:\n",
    "            if column not in df.columns:\n",
    "                df[column] = ''\n",
    "        df.to_csv(file_path, index=False)\n",
    "\n",
    "# Parse response string\n",
    "def parse_response(response):\n",
    "    try:\n",
    "        temperature = int(response[18:21], 16) / 10 if response[22:23] == '1' else int(response[18:21], 16)\n",
    "        gauss_value = int(response[24:27], 16)\n",
    "        if gauss_value & 0x8000:\n",
    "            gauss_value -= 0x10000\n",
    "        return temperature, gauss_value / 10\n",
    "    except Exception as e:\n",
    "        print(f\"Error parsing response: {response}, error: {e}\")\n",
    "        return None, None\n",
    "\n",
    "# Save magnetic flux data to CSV\n",
    "def save_magnetic_flux_to_csv(response_list):\n",
    "    df = pd.read_csv(file_path, dtype={\"Raw_data\": str})\n",
    "    for i, response in enumerate(response_list):\n",
    "        if i >= len(df):\n",
    "            break\n",
    "        temperature, gauss_value = parse_response(response)\n",
    "        df.at[i, 'Raw_data'] = response\n",
    "        df.at[i, 'Temperature'] = temperature\n",
    "        df.at[i, 'Gauss_Value'] = gauss_value\n",
    "    df.to_csv(file_path, index=False)\n",
    "\n",
    "# Initialization and adding columns\n",
    "initialize_csv()\n",
    "\n",
    "# Send data retrieval command and get response\n",
    "data_response = send_receive_command(\"$A!\")\n",
    "if data_response:\n",
    "    response_list = [entry for entry in data_response.decode('latin-1').split('#') if entry.startswith('D') and entry.endswith('!')]\n",
    "    save_magnetic_flux_to_csv(response_list)\n",
    "    print(\"Data saved to CSV\")\n",
    "else:\n",
    "    print(\"No data received\")\n"
   ]
  },
  {
   "cell_type": "code",
   "execution_count": null,
   "metadata": {},
   "outputs": [],
   "source": []
  }
 ],
 "metadata": {
  "kernelspec": {
   "display_name": "Python 3",
   "language": "python",
   "name": "python3"
  },
  "language_info": {
   "codemirror_mode": {
    "name": "ipython",
    "version": 3
   },
   "file_extension": ".py",
   "mimetype": "text/x-python",
   "name": "python",
   "nbconvert_exporter": "python",
   "pygments_lexer": "ipython3",
   "version": "3.11.9"
  }
 },
 "nbformat": 4,
 "nbformat_minor": 2
}
